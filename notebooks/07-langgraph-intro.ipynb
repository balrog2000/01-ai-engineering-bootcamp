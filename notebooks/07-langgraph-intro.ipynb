{
 "cells": [
  {
   "cell_type": "code",
   "execution_count": 138,
   "id": "4e2c852c",
   "metadata": {},
   "outputs": [],
   "source": [
    "from dotenv import load_dotenv\n",
    "import os\n",
    "\n",
    "load_dotenv('../.env_api')\n",
    "\n",
    "os.environ[\"HTTP_PROXY\"] = \"http://localhost:9090\"\n",
    "os.environ[\"HTTPS_PROXY\"] = \"http://localhost:9090\"\n",
    "# os.environ[\"NO_PROXY\"] = os.getenv(\"NO_PROXY\", \"localhost,127.0.0.1,qdrant,::1\")\n",
    "os.environ[\"REQUESTS_CA_BUNDLE\"] = \"/Users/tomek/Library/Application Support/com.proxyman.NSProxy-setapp/app-data/proxyman-ca.pem\"\n",
    "os.environ[\"SSL_CERT_FILE\"] = \"/Users/tomek/Library/Application Support/com.proxyman.NSProxy-setapp/app-data/proxyman-ca.pem\"\n",
    "\n",
    "from pydantic import BaseModel, Field\n",
    "from langgraph.graph import StateGraph, START, END\n",
    "from IPython.display import Image, display\n",
    "from typing import Literal, Dict, Any, Annotated, List\n",
    "from operator import add\n",
    "import random\n",
    "import ast\n",
    "import inspect\n",
    "from langgraph.prebuilt import ToolNode\n",
    "from jinja2 import Template\n",
    "import instructor\n",
    "from openai import OpenAI\n",
    "from langchain_core.messages import AIMessage, ToolMessage\n",
    "import json"
   ]
  },
  {
   "cell_type": "markdown",
   "id": "962b1b2e",
   "metadata": {},
   "source": [
    "## Simple single node graph"
   ]
  },
  {
   "cell_type": "code",
   "execution_count": null,
   "id": "0f4399e5",
   "metadata": {},
   "outputs": [],
   "source": []
  },
  {
   "cell_type": "code",
   "execution_count": 29,
   "id": "3bd88846",
   "metadata": {},
   "outputs": [],
   "source": [
    "class State(BaseModel):\n",
    "    message: str\n",
    "    answer: str = \"\"\n",
    "    vibe: str"
   ]
  },
  {
   "cell_type": "code",
   "execution_count": null,
   "id": "883c8de7",
   "metadata": {},
   "outputs": [],
   "source": [
    "def append_vibes_to_query(state: State) -> dict:\n",
    "    return {\"answer\": f\"{state.message} {state.vibe}\"}"
   ]
  },
  {
   "cell_type": "code",
   "execution_count": 7,
   "id": "26322744",
   "metadata": {},
   "outputs": [],
   "source": [
    "workflow = StateGraph(State)\n",
    "\n",
    "workflow.add_node(\"append_vibes_to_query\", append_vibes_to_query)\n",
    "workflow.add_edge(START, \"append_vibes_to_query\")\n",
    "workflow.add_edge(\"append_vibes_to_query\", END)\n",
    "\n",
    "graph = workflow.compile()\n",
    "\n"
   ]
  },
  {
   "cell_type": "code",
   "execution_count": 9,
   "id": "562044fb",
   "metadata": {},
   "outputs": [
    {
     "data": {
      "image/png": "[encoded data removed]",
      "text/plain": [
       "<IPython.core.display.Image object>"
      ]
     },
     "metadata": {},
     "output_type": "display_data"
    }
   ],
   "source": [
    "display(Image(graph.get_graph().draw_mermaid_png()))"
   ]
  },
  {
   "cell_type": "code",
   "execution_count": 15,
   "id": "ce578826",
   "metadata": {},
   "outputs": [],
   "source": [
    "initial_state = {\n",
    "    \"message\": \"What a wonderful morning!\",\n",
    "    \"answer\": \"To be discarded probably\",\n",
    "    \"vibe\": \"Totally lazy mood :-) ^^ ^^ !!\"\n",
    "}\n",
    "\n"
   ]
  },
  {
   "cell_type": "code",
   "execution_count": 16,
   "id": "8bb4310b",
   "metadata": {},
   "outputs": [
    {
     "data": {
      "text/plain": [
       "{'message': 'What a wonderful morning!',\n",
       " 'answer': 'What a wonderful morning! Totally lazy mood :-) ^^ ^^ !!',\n",
       " 'vibe': 'Totally lazy mood :-) ^^ ^^ !!'}"
      ]
     },
     "execution_count": 16,
     "metadata": {},
     "output_type": "execute_result"
    }
   ],
   "source": [
    "result = graph.invoke(initial_state)\n",
    "result"
   ]
  },
  {
   "cell_type": "markdown",
   "id": "ba80762b",
   "metadata": {},
   "source": [
    "## Conditional graph"
   ]
  },
  {
   "cell_type": "code",
   "execution_count": 30,
   "id": "5b623c4a",
   "metadata": {},
   "outputs": [],
   "source": [
    "class State(BaseModel):\n",
    "    message: str\n",
    "    answer: str = \"\""
   ]
  },
  {
   "cell_type": "code",
   "execution_count": 48,
   "id": "22c7b885",
   "metadata": {},
   "outputs": [],
   "source": [
    "def return_simple_answer(state: State) -> dict:\n",
    "    return {\"answer\": \"I am here to add some vibes!\"}\n"
   ]
  },
  {
   "cell_type": "code",
   "execution_count": 24,
   "id": "a5d8ec07",
   "metadata": {},
   "outputs": [],
   "source": [
    "def router(state: State) -> Literal['append_vibe_1', 'append_vibe_2', 'append_vibe_3']:\n",
    "    vibes = ['append_vibe_1', 'append_vibe_2', 'append_vibe_3']\n",
    "\n",
    "    vibe_path = random.choice(vibes)\n",
    "\n",
    "    return vibe_path"
   ]
  },
  {
   "cell_type": "code",
   "execution_count": 51,
   "id": "941d02dd",
   "metadata": {},
   "outputs": [],
   "source": [
    "def append_vibe_1(state: State) -> dict:\n",
    "    vibe = 'Badass baby!'\n",
    "    return {\"answer\": f\"{state.answer} {state.message}  {vibe}\"}\n",
    "\n",
    "def append_vibe_2(state: State) -> dict:\n",
    "    vibe = 'Hihi Haha ROTFLOLMAOPIP!'\n",
    "    return {\"answer\": f\"{state.answer} {state.message} {vibe}\"}\n",
    "\n",
    "def append_vibe_3(state: State) -> dict:\n",
    "    vibe = 'Bored, depressed, overwhelmed, and so on...'\n",
    "    return {\"answer\": f\"{state.answer} {state.message} {vibe}\"}"
   ]
  },
  {
   "cell_type": "code",
   "execution_count": 52,
   "id": "6eb32464",
   "metadata": {},
   "outputs": [],
   "source": [
    "workflow = StateGraph(State)\n",
    "\n",
    "workflow.add_node(\"return_simple_answer\", return_simple_answer)\n",
    "workflow.add_node(\"append_vibe_1\", append_vibe_1)\n",
    "workflow.add_node(\"append_vibe_2\", append_vibe_2)\n",
    "workflow.add_node(\"append_vibe_3\", append_vibe_3)\n",
    "\n",
    "workflow.add_edge(START, \"return_simple_answer\")\n",
    "workflow.add_conditional_edges(\n",
    "    \"return_simple_answer\",\n",
    "    router\n",
    ")\n",
    "workflow.add_edge(\"append_vibe_1\", END)\n",
    "workflow.add_edge(\"append_vibe_2\", END)\n",
    "workflow.add_edge(\"append_vibe_3\", END)\n",
    "\n",
    "graph = workflow.compile()\n",
    "\n"
   ]
  },
  {
   "cell_type": "code",
   "execution_count": 28,
   "id": "0b0250b7",
   "metadata": {},
   "outputs": [
    {
     "data": {
      "image/png": "[encoded data removed]",
      "text/plain": [
       "<IPython.core.display.Image object>"
      ]
     },
     "metadata": {},
     "output_type": "display_data"
    }
   ],
   "source": [
    "display(Image(graph.get_graph().draw_mermaid_png()))"
   ]
  },
  {
   "cell_type": "code",
   "execution_count": 69,
   "id": "24dc1faa",
   "metadata": {},
   "outputs": [
    {
     "name": "stdout",
     "output_type": "stream",
     "text": [
      "{'message': 'Gimme some!', 'answer': 'I am here to add some vibes! Gimme some! Hihi Haha ROTFLOLMAOPIP!'}\n"
     ]
    }
   ],
   "source": [
    "initial_state = {\n",
    "    \"message\": \"Gimme some!\",\n",
    "}\n",
    "result = graph.invoke(initial_state)\n",
    "print(result)"
   ]
  },
  {
   "cell_type": "markdown",
   "id": "95b53a50",
   "metadata": {},
   "source": [
    "# Agent graph"
   ]
  },
  {
   "cell_type": "code",
   "execution_count": 4,
   "id": "a958bec5",
   "metadata": {},
   "outputs": [],
   "source": [
    "def append_vibes(query: str, vibe: str) -> str:\n",
    "    \"\"\"\n",
    "    It takes in a query and a vibe and returns a string with the vibe appended to the query.\n",
    "\n",
    "    Args:\n",
    "        query: The query to append the vibe to.\n",
    "        vibe: The vibe to append to the query.\n",
    "\n",
    "    Returns:\n",
    "        str: The query with the vibe appended to it.\n",
    "    \"\"\"\n",
    "\n",
    "    # print(f'Appending vibe: {vibe} to {query}')\n",
    "    print(f\"{query} {vibe}\")\n",
    "    return f'{query} {vibe}'"
   ]
  },
  {
   "cell_type": "code",
   "execution_count": 5,
   "id": "f8955679",
   "metadata": {},
   "outputs": [],
   "source": [
    "function_string = inspect.getsource(append_vibes)"
   ]
  },
  {
   "cell_type": "code",
   "execution_count": 6,
   "id": "e7059363",
   "metadata": {},
   "outputs": [
    {
     "name": "stdout",
     "output_type": "stream",
     "text": [
      "def append_vibes(query: str, vibe: str) -> str:\n",
      "    \"\"\"\n",
      "    It takes in a query and a vibe and returns a string with the vibe appended to the query.\n",
      "\n",
      "    Args:\n",
      "        query: The query to append the vibe to.\n",
      "        vibe: The vibe to append to the query.\n",
      "\n",
      "    Returns:\n",
      "        str: The query with the vibe appended to it.\n",
      "    \"\"\"\n",
      "\n",
      "    # print(f'Appending vibe: {vibe} to {query}')\n",
      "    print(f\"{query} {vibe}\")\n",
      "    return f'{query} {vibe}'\n",
      "\n"
     ]
    }
   ],
   "source": [
    "print(function_string)"
   ]
  },
  {
   "cell_type": "code",
   "execution_count": 7,
   "id": "57113646",
   "metadata": {},
   "outputs": [
    {
     "ename": "NameError",
     "evalue": "name 'parse_function_definition' is not defined",
     "output_type": "error",
     "traceback": [
      "\u001b[31m---------------------------------------------------------------------------\u001b[39m",
      "\u001b[31mNameError\u001b[39m                                 Traceback (most recent call last)",
      "\u001b[36mCell\u001b[39m\u001b[36m \u001b[39m\u001b[32mIn[7]\u001b[39m\u001b[32m, line 1\u001b[39m\n\u001b[32m----> \u001b[39m\u001b[32m1\u001b[39m result = \u001b[43mparse_function_definition\u001b[49m(function_string)\n\u001b[32m      2\u001b[39m result\n",
      "\u001b[31mNameError\u001b[39m: name 'parse_function_definition' is not defined"
     ]
    }
   ],
   "source": [
    "result = parse_function_definition(function_string)\n",
    "result"
   ]
  },
  {
   "cell_type": "markdown",
   "id": "0d44ed91",
   "metadata": {},
   "source": [
    "### Back to agent creation after lil' experiments"
   ]
  },
  {
   "cell_type": "code",
   "execution_count": 38,
   "id": "ad1e643e",
   "metadata": {},
   "outputs": [],
   "source": [
    "class ToolCall(BaseModel):\n",
    "    name: str\n",
    "    arguments: dict\n",
    "\n",
    "class AgentResponse(BaseModel):\n",
    "    tool_calls: List[ToolCall] = Field(default_factory=list)\n",
    "    answer: str\n",
    "\n",
    "class State(BaseModel):\n",
    "    messages: Annotated[List[Any], add] = [] # reducer (it will add messages to the list)\n",
    "    message: str = \"\"\n",
    "    iteration: int = Field(default=0)\n",
    "    answer: str = \"\"\n",
    "    available_tools: List[Dict[str, Any]] = [] # returning will override last value\n",
    "    tool_calls: List[ToolCall] = Field(default_factory=list)\n"
   ]
  },
  {
   "cell_type": "code",
   "execution_count": 68,
   "id": "5d115fca",
   "metadata": {},
   "outputs": [
    {
     "data": {
      "text/plain": [
       "[{'name': 'append_vibes',\n",
       "  'description': 'It takes in a query and a vibe and returns a string with the vibe appended to the query.',\n",
       "  'parameters': {'type': 'object',\n",
       "   'properties': {'query': {'type': 'string',\n",
       "     'description': 'The query to append the vibe to.'},\n",
       "    'vibe': {'type': 'string',\n",
       "     'description': 'The vibe to append to the query.'}}},\n",
       "  'required': ['query', 'vibe'],\n",
       "  'returns': {'type': 'string',\n",
       "   'description': 'str: The query with the vibe appended to it.'}}]"
      ]
     },
     "execution_count": 68,
     "metadata": {},
     "output_type": "execute_result"
    }
   ],
   "source": [
    "tool_descriptions"
   ]
  },
  {
   "cell_type": "code",
   "execution_count": 104,
   "id": "119c8861",
   "metadata": {},
   "outputs": [],
   "source": [
    "def agent_node(state: State) -> dict:\n",
    "   prompt_template =  \"\"\"You are a assistant that is generating vibes for a user.\n",
    "\n",
    "You will be given a selection of tools you can use to add vibes to a user's query.\n",
    "\n",
    "<Available tools>\n",
    "{{ available_tools | tojson }}\n",
    "</Available tools>\n",
    "\n",
    "When you need to use a tool, format your response as:\n",
    "\n",
    "<tool_call>\n",
    "{\"name\": \"tool_name\", \"arguments\": {...}}\n",
    "</tool_call>\n",
    "\n",
    "Instructions:\n",
    "- You need to use the tools to add vibes to the user's query.\n",
    "- Add a random vibe to the user's query.\n",
    "\"\"\" \n",
    "   print(\"in agent node\")\n",
    "   template = Template(prompt_template)\n",
    "\n",
    "   prompt = template.render(\n",
    "      available_tools=state.available_tools\n",
    "   )\n",
    "\n",
    "   client = instructor.from_openai(OpenAI())\n",
    "\n",
    "   response, raw_response = client.chat.completions.create_with_completion(\n",
    "      model=\"gpt-4.1-mini\",\n",
    "      response_model=AgentResponse,\n",
    "      messages=[{\"role\": \"system\", \"content\": prompt}, {\"role\": \"user\", \"content\": state.message}],\n",
    "      temperature=0.5,\n",
    "   )\n",
    "\n",
    "   if response.tool_calls:\n",
    "      tool_calls = []\n",
    "      for i, tc in enumerate(response.tool_calls):\n",
    "         tool_calls.append({\n",
    "               \"id\": f\"call_{i}\",\n",
    "               \"name\": tc.name,\n",
    "               \"args\": tc.arguments\n",
    "         })\n",
    "\n",
    "      ai_message = AIMessage(\n",
    "         content=response.answer,\n",
    "         tool_calls=tool_calls\n",
    "      )\n",
    "   else:\n",
    "      ai_message = AIMessage(\n",
    "         content=response.answer,\n",
    "      )\n",
    "\n",
    "   return {\n",
    "      \"messages\": [ai_message],\n",
    "      \"tool_calls\": response.tool_calls\n",
    "   }\n"
   ]
  },
  {
   "cell_type": "code",
   "execution_count": 65,
   "id": "93d7172a",
   "metadata": {},
   "outputs": [],
   "source": [
    "def tool_router(state: State) -> str:\n",
    "    \"\"\"Decide whether to continue or end\"\"\"\n",
    "\n",
    "    if len(state.tool_calls) > 0:\n",
    "        return 'tools'\n",
    "    else:\n",
    "        return 'end'\n"
   ]
  },
  {
   "cell_type": "code",
   "execution_count": null,
   "id": "c9730eed",
   "metadata": {},
   "outputs": [
    {
     "data": {
      "image/png": "[encoded data removed]",
      "text/plain": [
       "<IPython.core.display.Image object>"
      ]
     },
     "metadata": {},
     "output_type": "display_data"
    }
   ],
   "source": [
    "workflow = StateGraph(State)\n",
    "\n",
    "tools = [append_vibes]\n",
    "\n",
    "tool_node = ToolNode(tools)\n",
    "\n",
    "tool_descriptions = get_tool_descriptions_from_node(tool_node)\n",
    "\n",
    "workflow.add_node('agent_node', agent_node)\n",
    "workflow.add_node('tool_node', tool_node)\n",
    "\n",
    "workflow.add_edge(START, \"agent_node\")\n",
    "workflow.add_conditional_edges(\n",
    "    'agent_node',\n",
    "    tool_router,\n",
    "    {\n",
    "        'tools': 'tool_node',\n",
    "        'end': END\n",
    "    }\n",
    ")\n",
    "# workflow.add_edge('tool_node', END)x why not in Aurimas lecture?\n",
    "\n",
    "\n",
    "graph = workflow.compile()\n",
    "display(Image(graph.get_graph().draw_mermaid_png()))"
   ]
  },
  {
   "cell_type": "code",
   "execution_count": 128,
   "id": "35af1b33",
   "metadata": {},
   "outputs": [
    {
     "name": "stdout",
     "output_type": "stream",
     "text": [
      "in agent node\n",
      "Sure! Please provide me with the query you'd like me to add a vibe to. chill and positive\n"
     ]
    }
   ],
   "source": [
    "initial_state = {\n",
    "    \"message\": \"Gimme some vibes!\",\n",
    "    'available_tools': tool_descriptions\n",
    "}\n",
    "result = graph.invoke(initial_state)"
   ]
  },
  {
   "cell_type": "code",
   "execution_count": 108,
   "id": "c19ea97d",
   "metadata": {},
   "outputs": [
    {
     "name": "stdout",
     "output_type": "stream",
     "text": [
      "content='Here you go with some chill and positive vibes added to your request!' additional_kwargs={} response_metadata={} tool_calls=[{'name': 'append_vibes', 'args': {'query': 'Gimme some vibes!', 'vibe': 'chill and positive'}, 'id': 'call_0', 'type': 'tool_call'}]\n",
      "content='Gimme some vibes! chill and positive' name='append_vibes' tool_call_id='call_0'\n"
     ]
    }
   ],
   "source": [
    "for data in result['messages']:\n",
    "    print(data)"
   ]
  },
  {
   "cell_type": "markdown",
   "id": "087033a8",
   "metadata": {},
   "source": [
    "## Agent graph with loopback from tools"
   ]
  },
  {
   "cell_type": "code",
   "execution_count": 111,
   "id": "bb29a7e0",
   "metadata": {},
   "outputs": [],
   "source": [
    "class ToolCall(BaseModel):\n",
    "    name: str\n",
    "    arguments: dict\n",
    "\n",
    "class AgentResponse(BaseModel):\n",
    "    tool_calls: List[ToolCall] = Field(default_factory=list)\n",
    "    answer: str\n",
    "\n",
    "class State(BaseModel):\n",
    "    messages: Annotated[List[Any], add] = [] # reducer (it will add messages to the list)\n",
    "    message: str = \"\"\n",
    "    iteration: int = Field(default=0)\n",
    "    answer: str = \"\"\n",
    "    available_tools: List[Dict[str, Any]] = [] # returning will override last value\n",
    "    tool_calls: List[ToolCall] = Field(default_factory=list)"
   ]
  },
  {
   "cell_type": "code",
   "execution_count": 112,
   "id": "bcccf668",
   "metadata": {},
   "outputs": [],
   "source": [
    "def append_vibes(query: str, vibe: str) -> str:\n",
    "    \"\"\"\n",
    "    It takes in a query and a vibe and returns a string with the vibe appended to the query.\n",
    "\n",
    "    Args:\n",
    "        query: The query to append the vibe to.\n",
    "        vibe: The vibe to append to the query.\n",
    "\n",
    "    Returns:\n",
    "        str: The query with the vibe appended to it.\n",
    "    \"\"\"\n",
    "\n",
    "    # print(f'Appending vibe: {vibe} to {query}')\n",
    "    print(f\"{query} {vibe}\")\n",
    "    return f'{query} {vibe}'"
   ]
  },
  {
   "cell_type": "markdown",
   "id": "f3f70f55",
   "metadata": {},
   "source": [
    "##### Appending messages - short term memory"
   ]
  },
  {
   "cell_type": "code",
   "execution_count": 165,
   "id": "d4ccb14b",
   "metadata": {},
   "outputs": [],
   "source": [
    "def agent_node(state: State) -> dict:\n",
    "   prompt_template =  \"\"\"You are a assistant that is generating vibes for a user.\n",
    "\n",
    "You will be given a selection of tools you can use to add vibes to a user's query.\n",
    "\n",
    "<Available tools>\n",
    "{{ available_tools | tojson }}\n",
    "</Available tools>\n",
    "\n",
    "When you need to use a tool, format your response as:\n",
    "\n",
    "<tool_call>\n",
    "{\"name\": \"tool_name\", \"arguments\": {...}}\n",
    "</tool_call>\n",
    "\n",
    "Instructions:\n",
    "- You need to use the tools to add vibes to the user's query.\n",
    "- Add a random vibe to the user's query.\n",
    "- Once you have the vibe from the tool, return it as an answer, you can reformulate it a bit and add some l33t speak to it.\n",
    "\"\"\" \n",
    "   print(\"in agent node\")\n",
    "   template = Template(prompt_template)\n",
    "\n",
    "   prompt = template.render(\n",
    "      available_tools=state.available_tools\n",
    "   )\n",
    "\n",
    "   messages = state.messages\n",
    "\n",
    "   conversation = []\n",
    "   for message in messages:\n",
    "      conversation.append(lc_messages_to_regular_messages(message))\n",
    "\n",
    "   client = instructor.from_openai(OpenAI())\n",
    "\n",
    "   response, raw_response = client.chat.completions.create_with_completion(\n",
    "      model=\"gpt-4.1-mini\",\n",
    "      response_model=AgentResponse,\n",
    "      messages=[{\"role\": \"system\", \"content\": prompt}, *conversation],\n",
    "      temperature=0.5,\n",
    "   )\n",
    "\n",
    "   if response.tool_calls:\n",
    "      tool_calls = []\n",
    "      for i, tc in enumerate(response.tool_calls):\n",
    "         tool_calls.append({\n",
    "               \"id\": f\"call_{i}\",\n",
    "               \"name\": tc.name,\n",
    "               \"args\": tc.arguments\n",
    "         })\n",
    "\n",
    "      ai_message = AIMessage(\n",
    "         content=response.answer,\n",
    "         tool_calls=tool_calls\n",
    "      )\n",
    "   else:\n",
    "      ai_message = AIMessage(\n",
    "         content=response.answer,\n",
    "      )\n",
    "\n",
    "   return {\n",
    "      \"messages\": [ai_message],\n",
    "      \"tool_calls\": response.tool_calls,\n",
    "      \"iteration\": state.iteration + 1,\n",
    "      \"answer\": response.answer,\n",
    "   }\n"
   ]
  },
  {
   "cell_type": "code",
   "execution_count": 158,
   "id": "d4c31552",
   "metadata": {},
   "outputs": [],
   "source": [
    "def tool_router(state: State) -> str:\n",
    "    \"\"\"Decide whether to continue or end\"\"\"\n",
    "\n",
    "    if state.iteration > 3:\n",
    "        return 'end'\n",
    "    elif len(state.tool_calls) > 0:\n",
    "        return 'tools'\n",
    "    else:\n",
    "        return 'end'"
   ]
  },
  {
   "cell_type": "code",
   "execution_count": 166,
   "id": "38f16482",
   "metadata": {},
   "outputs": [],
   "source": [
    "workflow = StateGraph(State)\n",
    "\n",
    "tools = [append_vibes]\n",
    "\n",
    "tool_node = ToolNode(tools)\n",
    "\n",
    "tool_descriptions = get_tool_descriptions_from_node(tool_node)\n",
    "\n",
    "workflow.add_node('agent_node', agent_node)\n",
    "workflow.add_node('tool_node', tool_node)\n",
    "\n",
    "workflow.add_edge(START, \"agent_node\")\n",
    "workflow.add_conditional_edges(\n",
    "    'agent_node',\n",
    "    tool_router,\n",
    "    {\n",
    "        'tools': 'tool_node',\n",
    "        'end': END\n",
    "    }\n",
    ")\n",
    "workflow.add_edge('tool_node', 'agent_node')\n",
    "\n",
    "graph = workflow.compile()"
   ]
  },
  {
   "cell_type": "code",
   "execution_count": 133,
   "id": "d1271428",
   "metadata": {},
   "outputs": [
    {
     "data": {
      "image/png": "[encoded data removed]",
      "text/plain": [
       "<IPython.core.display.Image object>"
      ]
     },
     "metadata": {},
     "output_type": "display_data"
    }
   ],
   "source": [
    "display(Image(graph.get_graph().draw_mermaid_png()))"
   ]
  },
  {
   "cell_type": "code",
   "execution_count": 170,
   "id": "b823b566",
   "metadata": {},
   "outputs": [
    {
     "name": "stdout",
     "output_type": "stream",
     "text": [
      "in agent node\n",
      "Gimme some vibes! chill and positive\n",
      "in agent node\n"
     ]
    }
   ],
   "source": [
    "initial_state = {\n",
    "    \"messages\": [{\"role\": \"user\", \"content\": \"Gimme some vibes!\"}],\n",
    "    \"available_tools\": tool_descriptions\n",
    "}\n",
    "\n",
    "result = graph.invoke(initial_state)"
   ]
  },
  {
   "cell_type": "code",
   "execution_count": 171,
   "id": "c2593c26",
   "metadata": {},
   "outputs": [
    {
     "data": {
      "text/plain": [
       "{'messages': [{'role': 'user', 'content': 'Gimme some vibes!'},\n",
       "  AIMessage(content='Appending a chill and positive vibe to your query.', additional_kwargs={}, response_metadata={}, tool_calls=[{'name': 'append_vibes', 'args': {'query': 'Gimme some vibes!', 'vibe': 'chill and positive'}, 'id': 'call_0', 'type': 'tool_call'}]),\n",
       "  ToolMessage(content='Gimme some vibes! chill and positive', name='append_vibes', tool_call_id='call_0'),\n",
       "  AIMessage(content=\"Here you go, Gimme some vibes! chill and positive — totally chillax mode activated, keepin' it 100! 😎✌️\", additional_kwargs={}, response_metadata={})],\n",
       " 'iteration': 2,\n",
       " 'answer': \"Here you go, Gimme some vibes! chill and positive — totally chillax mode activated, keepin' it 100! 😎✌️\",\n",
       " 'available_tools': [{'name': 'append_vibes',\n",
       "   'description': 'It takes in a query and a vibe and returns a string with the vibe appended to the query.',\n",
       "   'parameters': {'type': 'object',\n",
       "    'properties': {'query': {'type': 'string',\n",
       "      'description': 'The query to append the vibe to.'},\n",
       "     'vibe': {'type': 'string',\n",
       "      'description': 'The vibe to append to the query.'}}},\n",
       "   'required': ['query', 'vibe'],\n",
       "   'returns': {'type': 'string',\n",
       "    'description': 'str: The query with the vibe appended to it.'}}],\n",
       " 'tool_calls': []}"
      ]
     },
     "execution_count": 171,
     "metadata": {},
     "output_type": "execute_result"
    }
   ],
   "source": [
    "result"
   ]
  },
  {
   "cell_type": "markdown",
   "id": "89dc78c0",
   "metadata": {},
   "source": [
    "# Tools copy pasted from Aurimas Github"
   ]
  },
  {
   "cell_type": "code",
   "execution_count": 12,
   "id": "253fdaae",
   "metadata": {},
   "outputs": [],
   "source": [
    "def parse_function_definition(function_def: str) -> Dict[str, Any]:\n",
    "    \"\"\"Parse a function definition string to extract metadata including type hints.\"\"\"\n",
    "    result = {\n",
    "        \"name\": \"\",\n",
    "        \"description\": \"\",\n",
    "        \"parameters\": {\"type\": \"object\", \"properties\": {}},\n",
    "        \"required\": [],\n",
    "        \"returns\": {\"type\": \"string\", \"description\": \"\"}\n",
    "    }\n",
    "    \n",
    "    # Parse the function using AST\n",
    "    tree = ast.parse(function_def.strip())\n",
    "    if not tree.body or not isinstance(tree.body[0], ast.FunctionDef):\n",
    "        return result\n",
    "        \n",
    "    func = tree.body[0]\n",
    "    result[\"name\"] = func.name\n",
    "    \n",
    "    # Extract docstring\n",
    "    docstring = ast.get_docstring(func) or \"\"\n",
    "    if docstring:\n",
    "        # Extract description (first line/paragraph)\n",
    "        desc_end = docstring.find('\\n\\n') if '\\n\\n' in docstring else docstring.find('\\nArgs:')\n",
    "        desc_end = desc_end if desc_end > 0 else docstring.find('\\nParameters:')\n",
    "        result[\"description\"] = docstring[:desc_end].strip() if desc_end > 0 else docstring.strip()\n",
    "        \n",
    "        # Parse parameter descriptions\n",
    "        param_descs = parse_docstring_params(docstring)\n",
    "        \n",
    "        # Extract return description\n",
    "        if \"Returns:\" in docstring:\n",
    "            result[\"returns\"][\"description\"] = docstring.split(\"Returns:\")[1].strip().split('\\n')[0]\n",
    "    \n",
    "    # Extract parameters with type hints\n",
    "    args = func.args\n",
    "    defaults = args.defaults\n",
    "    num_args = len(args.args)\n",
    "    num_defaults = len(defaults)\n",
    "    \n",
    "    for i, arg in enumerate(args.args):\n",
    "        if arg.arg == 'self':\n",
    "            continue\n",
    "            \n",
    "        param_info = {\n",
    "            \"type\": get_type_from_annotation(arg.annotation) if arg.annotation else \"string\",\n",
    "            \"description\": param_descs.get(arg.arg, \"\")\n",
    "        }\n",
    "        \n",
    "        # Check for default value\n",
    "        default_idx = i - (num_args - num_defaults)\n",
    "        if default_idx >= 0:\n",
    "            param_info[\"default\"] = ast.literal_eval(ast.unparse(defaults[default_idx]))\n",
    "        else:\n",
    "            result[\"required\"].append(arg.arg)\n",
    "        \n",
    "        result[\"parameters\"][\"properties\"][arg.arg] = param_info\n",
    "    \n",
    "    # Extract return type\n",
    "    if func.returns:\n",
    "        result[\"returns\"][\"type\"] = get_type_from_annotation(func.returns)\n",
    "    \n",
    "    return result\n",
    "\n",
    "\n",
    "def get_type_from_annotation(annotation) -> str:\n",
    "    \"\"\"Convert AST annotation to type string.\"\"\"\n",
    "    if not annotation:\n",
    "        return \"string\"\n",
    "    \n",
    "    type_map = {\n",
    "        'str': 'string',\n",
    "        'int': 'integer', \n",
    "        'float': 'number',\n",
    "        'bool': 'boolean',\n",
    "        'list': 'array',\n",
    "        'dict': 'object',\n",
    "        'List': 'array',\n",
    "        'Dict': 'object'\n",
    "    }\n",
    "    \n",
    "    if isinstance(annotation, ast.Name):\n",
    "        return type_map.get(annotation.id, annotation.id)\n",
    "    elif isinstance(annotation, ast.Subscript) and isinstance(annotation.value, ast.Name):\n",
    "        base_type = annotation.value.id\n",
    "        return type_map.get(base_type, base_type.lower())\n",
    "    \n",
    "    return \"string\"\n",
    "\n",
    "\n",
    "def parse_docstring_params(docstring: str) -> Dict[str, str]:\n",
    "    \"\"\"Extract parameter descriptions from docstring (handles both Args: and Parameters: formats).\"\"\"\n",
    "    params = {}\n",
    "    lines = docstring.split('\\n')\n",
    "    in_params = False\n",
    "    current_param = None\n",
    "    \n",
    "    for line in lines:\n",
    "        stripped = line.strip()\n",
    "        \n",
    "        # Check for parameter section start\n",
    "        if stripped in ['Args:', 'Arguments:', 'Parameters:', 'Params:']:\n",
    "            in_params = True\n",
    "            current_param = None\n",
    "        elif stripped.startswith('Returns:') or stripped.startswith('Raises:'):\n",
    "            in_params = False\n",
    "        elif in_params:\n",
    "            # Parse parameter line (handles \"param: desc\" and \"- param: desc\" formats)\n",
    "            if ':' in stripped and (stripped[0].isalpha() or stripped.startswith(('-', '*'))):\n",
    "                param_name = stripped.lstrip('- *').split(':')[0].strip()\n",
    "                param_desc = ':'.join(stripped.lstrip('- *').split(':')[1:]).strip()\n",
    "                params[param_name] = param_desc\n",
    "                current_param = param_name\n",
    "            elif current_param and stripped:\n",
    "                # Continuation of previous parameter description\n",
    "                params[current_param] += ' ' + stripped\n",
    "    \n",
    "    return params"
   ]
  },
  {
   "cell_type": "code",
   "execution_count": 17,
   "id": "ccadfd1c",
   "metadata": {},
   "outputs": [],
   "source": [
    "def get_tool_descriptions_from_node(tool_node):\n",
    "    \"\"\"Extract tool descriptions from the ToolNode object.\"\"\"\n",
    "    descriptions = []\n",
    "    \n",
    "    if hasattr(tool_node, 'tools_by_name'):\n",
    "        tools_by_name = tool_node.tools_by_name\n",
    "        \n",
    "        for tool_name, tool in tools_by_name.items():\n",
    "            function_string = inspect.getsource(globals()[tool_name])\n",
    "            # function_string = inspect.getsource(getattr(tool_name))\n",
    "            result = parse_function_definition(function_string)\n",
    "\n",
    "            if result:\n",
    "                descriptions.append(result)\n",
    "    \n",
    "    return descriptions if descriptions else \"Could not extract tool descriptions\""
   ]
  },
  {
   "cell_type": "markdown",
   "id": "c7d738ac",
   "metadata": {},
   "source": [
    "# TK experiments, mutable v immutable"
   ]
  },
  {
   "cell_type": "code",
   "execution_count": 151,
   "id": "d38aefe8",
   "metadata": {},
   "outputs": [
    {
     "name": "stdout",
     "output_type": "stream",
     "text": [
      "[1]\n",
      "[1, 2]\n"
     ]
    }
   ],
   "source": [
    "def append_to_list(value, lst=[]):  # ZŁO\n",
    "    lst.append(value)\n",
    "    return lst\n",
    "\n",
    "print(append_to_list(1))  # [1]\n",
    "print(append_to_list(2))  # [1, 2]  ← ups!"
   ]
  },
  {
   "cell_type": "code",
   "execution_count": 152,
   "id": "b80c4ecf",
   "metadata": {},
   "outputs": [],
   "source": [
    "def lc_messages_to_regular_messages(msg):\n",
    "\n",
    "    if isinstance(msg, dict):\n",
    "        \n",
    "        if msg.get(\"role\") == \"user\":\n",
    "            return {\"role\": \"user\", \"content\": msg[\"content\"]}\n",
    "        elif msg.get(\"role\") == \"assistant\":\n",
    "            return {\"role\": \"assistant\", \"content\": msg[\"content\"]}\n",
    "        elif msg.get(\"role\") == \"tool\":\n",
    "            return {\n",
    "                \"role\": \"tool\", \n",
    "                \"content\": msg[\"content\"], \n",
    "                \"tool_call_id\": msg.get(\"tool_call_id\")\n",
    "            }\n",
    "        \n",
    "    elif isinstance(msg, AIMessage):\n",
    "\n",
    "        result = {\n",
    "            \"role\": \"assistant\",\n",
    "            \"content\": msg.content\n",
    "        }\n",
    "        \n",
    "        if hasattr(msg, 'tool_calls') and msg.tool_calls and len(msg.tool_calls) > 0 and not msg.tool_calls[0].get(\"name\").startswith(\"functions.\"):\n",
    "            result[\"tool_calls\"] = [\n",
    "                {\n",
    "                    \"id\": tc[\"id\"],\n",
    "                    \"type\": \"function\",\n",
    "                    \"function\": {\n",
    "                        \"name\": tc[\"name\"].replace(\"functions.\", \"\"),\n",
    "                        \"arguments\": json.dumps(tc[\"args\"])\n",
    "                    }\n",
    "                }\n",
    "                for tc in msg.tool_calls\n",
    "            ]\n",
    "            \n",
    "        return result\n",
    "    \n",
    "    elif isinstance(msg, ToolMessage):\n",
    "\n",
    "        return {\"role\": \"tool\", \"content\": msg.content, \"tool_call_id\": msg.tool_call_id}\n",
    "    \n",
    "    else:\n",
    "\n",
    "        return {\"role\": \"user\", \"content\": str(msg)}"
   ]
  },
  {
   "cell_type": "code",
   "execution_count": 153,
   "id": "00eb8f41",
   "metadata": {},
   "outputs": [
    {
     "name": "stdout",
     "output_type": "stream",
     "text": [
      "[ToolCall(name='fail', arguments={})]\n",
      "[ToolCall(name='fail', arguments={})]\n"
     ]
    }
   ],
   "source": [
    "class BrokenState():\n",
    "    tool_calls: List[ToolCall] = []  # NIE rób tak!\n",
    "\n",
    "b1 = BrokenState()\n",
    "b2 = BrokenState()\n",
    "b1.tool_calls.append(ToolCall(name=\"fail\", arguments={}))\n",
    "\n",
    "print(b1.tool_calls)  # TU TEŻ BĘDZIE TOOLCALL!\n",
    "print(b2.tool_calls)  # TU TEŻ BĘDZIE TOOLCALL!"
   ]
  },
  {
   "cell_type": "code",
   "execution_count": 154,
   "id": "e58a6cfa",
   "metadata": {},
   "outputs": [
    {
     "name": "stdout",
     "output_type": "stream",
     "text": [
      "[ToolCall(name='fail', arguments={})]\n",
      "[]\n"
     ]
    }
   ],
   "source": [
    "class BrokenState(BaseModel):\n",
    "    tool_calls: List[ToolCall] = []  # NIE rób tak!\n",
    "\n",
    "b1 = BrokenState()\n",
    "b2 = BrokenState()\n",
    "b1.tool_calls.append(ToolCall(name=\"fail\", arguments={}))\n",
    "\n",
    "print(b1.tool_calls)  # Pydantic protction\n",
    "print(b2.tool_calls)  # "
   ]
  }
 ],
 "metadata": {
  "kernelspec": {
   "display_name": ".venv",
   "language": "python",
   "name": "python3"
  },
  "language_info": {
   "codemirror_mode": {
    "name": "ipython",
    "version": 3
   },
   "file_extension": ".py",
   "mimetype": "text/x-python",
   "name": "python",
   "nbconvert_exporter": "python",
   "pygments_lexer": "ipython3",
   "version": "3.12.10"
  }
 },
 "nbformat": 4,
 "nbformat_minor": 5
}
