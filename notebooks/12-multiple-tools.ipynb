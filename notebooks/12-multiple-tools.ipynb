{
 "cells": [
  {
   "cell_type": "code",
   "execution_count": 137,
   "id": "1134a35e",
   "metadata": {},
   "outputs": [],
   "source": [
    "from qdrant_client import QdrantClient\n",
    "from qdrant_client.models import Distance, VectorParams, PointStruct, PayloadSchemaType, Prefetch, Filter, FieldCondition, MatchText, FusionQuery, MatchAny\n",
    "\n",
    "import pandas as pd\n",
    "import openai\n",
    "import json\n",
    "import tiktoken\n",
    "\n",
    "from dotenv import load_dotenv\n",
    "import os\n",
    "\n",
    "load_dotenv('../.env_api')\n",
    "\n",
    "from rich.pretty import pprint\n"
   ]
  },
  {
   "cell_type": "markdown",
   "id": "ffab8a6e",
   "metadata": {},
   "source": [
    "## Load Amazon dataset(Items)"
   ]
  },
  {
   "cell_type": "code",
   "execution_count": 20,
   "id": "53bb1232",
   "metadata": {},
   "outputs": [
    {
     "data": {
      "text/html": [
       "<div>\n",
       "<style scoped>\n",
       "    .dataframe tbody tr th:only-of-type {\n",
       "        vertical-align: middle;\n",
       "    }\n",
       "\n",
       "    .dataframe tbody tr th {\n",
       "        vertical-align: top;\n",
       "    }\n",
       "\n",
       "    .dataframe thead th {\n",
       "        text-align: right;\n",
       "    }\n",
       "</style>\n",
       "<table border=\"1\" class=\"dataframe\">\n",
       "  <thead>\n",
       "    <tr style=\"text-align: right;\">\n",
       "      <th></th>\n",
       "      <th>main_category</th>\n",
       "      <th>title</th>\n",
       "      <th>average_rating</th>\n",
       "      <th>rating_number</th>\n",
       "      <th>features</th>\n",
       "      <th>description</th>\n",
       "      <th>price</th>\n",
       "      <th>images</th>\n",
       "      <th>videos</th>\n",
       "      <th>store</th>\n",
       "      <th>categories</th>\n",
       "      <th>details</th>\n",
       "      <th>parent_asin</th>\n",
       "      <th>bought_together</th>\n",
       "      <th>available_date</th>\n",
       "    </tr>\n",
       "  </thead>\n",
       "  <tbody>\n",
       "    <tr>\n",
       "      <th>0</th>\n",
       "      <td>All Electronics</td>\n",
       "      <td>Adjustable Metal Stand for E cho Show 15, Tilt...</td>\n",
       "      <td>4.5</td>\n",
       "      <td>111</td>\n",
       "      <td>[The VMEI adjustable metal bracket is made of ...</td>\n",
       "      <td>[]</td>\n",
       "      <td>36.99</td>\n",
       "      <td>[{'thumb': 'https://m.media-amazon.com/images/...</td>\n",
       "      <td>[{'title': 'Small footprint, minimalist design...</td>\n",
       "      <td>VMEI</td>\n",
       "      <td>[Electronics, Computers &amp; Accessories, Compute...</td>\n",
       "      <td>{'Brand': 'VMEI', 'Color': 'Black', 'Room Type...</td>\n",
       "      <td>B0B13T2GY5</td>\n",
       "      <td>NaN</td>\n",
       "      <td>2022-05-11</td>\n",
       "    </tr>\n",
       "  </tbody>\n",
       "</table>\n",
       "</div>"
      ],
      "text/plain": [
       "     main_category                                              title  \\\n",
       "0  All Electronics  Adjustable Metal Stand for E cho Show 15, Tilt...   \n",
       "\n",
       "   average_rating  rating_number  \\\n",
       "0             4.5            111   \n",
       "\n",
       "                                            features description  price  \\\n",
       "0  [The VMEI adjustable metal bracket is made of ...          []  36.99   \n",
       "\n",
       "                                              images  \\\n",
       "0  [{'thumb': 'https://m.media-amazon.com/images/...   \n",
       "\n",
       "                                              videos store  \\\n",
       "0  [{'title': 'Small footprint, minimalist design...  VMEI   \n",
       "\n",
       "                                          categories  \\\n",
       "0  [Electronics, Computers & Accessories, Compute...   \n",
       "\n",
       "                                             details parent_asin  \\\n",
       "0  {'Brand': 'VMEI', 'Color': 'Black', 'Room Type...  B0B13T2GY5   \n",
       "\n",
       "   bought_together available_date  \n",
       "0              NaN     2022-05-11  "
      ]
     },
     "execution_count": 20,
     "metadata": {},
     "output_type": "execute_result"
    }
   ],
   "source": [
    "df_items = pd.read_json(\"../data/meta_Electronics_1000.jsonl\", lines=True)\n",
    "df_items.head(1)"
   ]
  },
  {
   "cell_type": "code",
   "execution_count": 27,
   "id": "9e83450a",
   "metadata": {},
   "outputs": [
    {
     "data": {
      "text/plain": [
       "50"
      ]
     },
     "execution_count": 27,
     "metadata": {},
     "output_type": "execute_result"
    }
   ],
   "source": [
    "df_items_sample = df_items.sample(n=50, random_state=22)\n",
    "\n",
    "len(df_items_sample)"
   ]
  },
  {
   "cell_type": "markdown",
   "id": "f7db9424",
   "metadata": {},
   "source": [
    "### Preproc"
   ]
  },
  {
   "cell_type": "code",
   "execution_count": 28,
   "id": "abfb8199",
   "metadata": {},
   "outputs": [
    {
     "data": {
      "text/html": [
       "<div>\n",
       "<style scoped>\n",
       "    .dataframe tbody tr th:only-of-type {\n",
       "        vertical-align: middle;\n",
       "    }\n",
       "\n",
       "    .dataframe tbody tr th {\n",
       "        vertical-align: top;\n",
       "    }\n",
       "\n",
       "    .dataframe thead th {\n",
       "        text-align: right;\n",
       "    }\n",
       "</style>\n",
       "<table border=\"1\" class=\"dataframe\">\n",
       "  <thead>\n",
       "    <tr style=\"text-align: right;\">\n",
       "      <th></th>\n",
       "      <th>main_category</th>\n",
       "      <th>title</th>\n",
       "      <th>average_rating</th>\n",
       "      <th>rating_number</th>\n",
       "      <th>features</th>\n",
       "      <th>description</th>\n",
       "      <th>price</th>\n",
       "      <th>images</th>\n",
       "      <th>videos</th>\n",
       "      <th>store</th>\n",
       "      <th>categories</th>\n",
       "      <th>details</th>\n",
       "      <th>parent_asin</th>\n",
       "      <th>bought_together</th>\n",
       "      <th>available_date</th>\n",
       "      <th>preprocessed_data</th>\n",
       "      <th>first_large_image</th>\n",
       "    </tr>\n",
       "  </thead>\n",
       "  <tbody>\n",
       "    <tr>\n",
       "      <th>866</th>\n",
       "      <td>All Electronics</td>\n",
       "      <td>Cubilux Bidirectional 4-Channel 6.35mm Audio S...</td>\n",
       "      <td>4.4</td>\n",
       "      <td>432</td>\n",
       "      <td>[[Bidirectional 4 Ports Stereo Audio Switch] –...</td>\n",
       "      <td>[]</td>\n",
       "      <td>22.8</td>\n",
       "      <td>[{'thumb': 'https://m.media-amazon.com/images/...</td>\n",
       "      <td>[{'title': 'FIFINE Ultra Low-Noise 4-Channel L...</td>\n",
       "      <td>Cubilux</td>\n",
       "      <td>[Electronics, Home Audio, Home Theater, Receiv...</td>\n",
       "      <td>{'Brand': 'Cubilux', 'Color': 'Black, Signal S...</td>\n",
       "      <td>B09QM7C4FJ</td>\n",
       "      <td>NaN</td>\n",
       "      <td>2022-06-15</td>\n",
       "      <td>Cubilux Bidirectional 4-Channel 6.35mm Audio S...</td>\n",
       "      <td>https://m.media-amazon.com/images/I/31ru008gzU...</td>\n",
       "    </tr>\n",
       "  </tbody>\n",
       "</table>\n",
       "</div>"
      ],
      "text/plain": [
       "       main_category                                              title  \\\n",
       "866  All Electronics  Cubilux Bidirectional 4-Channel 6.35mm Audio S...   \n",
       "\n",
       "     average_rating  rating_number  \\\n",
       "866             4.4            432   \n",
       "\n",
       "                                              features description  price  \\\n",
       "866  [[Bidirectional 4 Ports Stereo Audio Switch] –...          []   22.8   \n",
       "\n",
       "                                                images  \\\n",
       "866  [{'thumb': 'https://m.media-amazon.com/images/...   \n",
       "\n",
       "                                                videos    store  \\\n",
       "866  [{'title': 'FIFINE Ultra Low-Noise 4-Channel L...  Cubilux   \n",
       "\n",
       "                                            categories  \\\n",
       "866  [Electronics, Home Audio, Home Theater, Receiv...   \n",
       "\n",
       "                                               details parent_asin  \\\n",
       "866  {'Brand': 'Cubilux', 'Color': 'Black, Signal S...  B09QM7C4FJ   \n",
       "\n",
       "     bought_together available_date  \\\n",
       "866              NaN     2022-06-15   \n",
       "\n",
       "                                     preprocessed_data  \\\n",
       "866  Cubilux Bidirectional 4-Channel 6.35mm Audio S...   \n",
       "\n",
       "                                     first_large_image  \n",
       "866  https://m.media-amazon.com/images/I/31ru008gzU...  "
      ]
     },
     "execution_count": 28,
     "metadata": {},
     "output_type": "execute_result"
    }
   ],
   "source": [
    "def preprocess_data(row):\n",
    "    return f\"{row['title']} {' '.join(row['features'])}\"\n",
    "\n",
    "def extract_first_large_image(row):\n",
    "    return row[\"images\"][0].get(\"large\", '')\n",
    "\n",
    "df_items_sample[\"preprocessed_data\"] = df_items_sample.apply(preprocess_data, axis=1)\n",
    "df_items_sample[\"first_large_image\"] = df_items_sample.apply(extract_first_large_image, axis=1)\n",
    "\n",
    "df_items_sample.head(1)"
   ]
  },
  {
   "cell_type": "markdown",
   "id": "45274397",
   "metadata": {},
   "source": [
    "## Load Amazon dataset(Reviews)"
   ]
  },
  {
   "cell_type": "code",
   "execution_count": 71,
   "id": "693f668f",
   "metadata": {},
   "outputs": [
    {
     "data": {
      "text/plain": [
       "103462"
      ]
     },
     "execution_count": 71,
     "metadata": {},
     "output_type": "execute_result"
    }
   ],
   "source": [
    "df_reviews = pd.read_json(\"../data/Electronics_1000.jsonl\", lines=True)\n",
    "len(df_reviews)"
   ]
  },
  {
   "cell_type": "code",
   "execution_count": 72,
   "id": "0e8a944c",
   "metadata": {},
   "outputs": [
    {
     "data": {
      "text/plain": [
       "3452"
      ]
     },
     "execution_count": 72,
     "metadata": {},
     "output_type": "execute_result"
    }
   ],
   "source": [
    "df_reviews_sample = df_reviews[df_reviews['parent_asin'].isin(df_items_sample['parent_asin'])]\n",
    "len(df_reviews_sample)"
   ]
  },
  {
   "cell_type": "code",
   "execution_count": 73,
   "id": "030ba668",
   "metadata": {},
   "outputs": [
    {
     "data": {
      "text/html": [
       "<div>\n",
       "<style scoped>\n",
       "    .dataframe tbody tr th:only-of-type {\n",
       "        vertical-align: middle;\n",
       "    }\n",
       "\n",
       "    .dataframe tbody tr th {\n",
       "        vertical-align: top;\n",
       "    }\n",
       "\n",
       "    .dataframe thead th {\n",
       "        text-align: right;\n",
       "    }\n",
       "</style>\n",
       "<table border=\"1\" class=\"dataframe\">\n",
       "  <thead>\n",
       "    <tr style=\"text-align: right;\">\n",
       "      <th></th>\n",
       "      <th>rating</th>\n",
       "      <th>title</th>\n",
       "      <th>text</th>\n",
       "      <th>images</th>\n",
       "      <th>asin</th>\n",
       "      <th>parent_asin</th>\n",
       "      <th>user_id</th>\n",
       "      <th>timestamp</th>\n",
       "      <th>helpful_vote</th>\n",
       "      <th>verified_purchase</th>\n",
       "    </tr>\n",
       "  </thead>\n",
       "  <tbody>\n",
       "    <tr>\n",
       "      <th>40</th>\n",
       "      <td>5</td>\n",
       "      <td>Good antenna replacement</td>\n",
       "      <td>Great product, easy 2min install. 3 months fin...</td>\n",
       "      <td>[]</td>\n",
       "      <td>B079KXLF57</td>\n",
       "      <td>B07HGQT28F</td>\n",
       "      <td>AFWRGOGF4AI2IHRX7KZ2IYL63RXA</td>\n",
       "      <td>2019-07-27 04:29:39.520</td>\n",
       "      <td>0</td>\n",
       "      <td>True</td>\n",
       "    </tr>\n",
       "    <tr>\n",
       "      <th>42</th>\n",
       "      <td>5</td>\n",
       "      <td>Solid accent light!</td>\n",
       "      <td>[[VIDEOID:26e41479a2cd6585ebd147f2d336ed2a]] U...</td>\n",
       "      <td>[{'small_image_url': 'https://m.media-amazon.c...</td>\n",
       "      <td>B09VCXYJHK</td>\n",
       "      <td>B09Y77N1T2</td>\n",
       "      <td>AGL3NDIOMDLE2BS7WPF6GHLE77ZQ</td>\n",
       "      <td>2022-05-30 00:29:35.253</td>\n",
       "      <td>2</td>\n",
       "      <td>False</td>\n",
       "    </tr>\n",
       "  </tbody>\n",
       "</table>\n",
       "</div>"
      ],
      "text/plain": [
       "    rating                     title  \\\n",
       "40       5  Good antenna replacement   \n",
       "42       5       Solid accent light!   \n",
       "\n",
       "                                                 text  \\\n",
       "40  Great product, easy 2min install. 3 months fin...   \n",
       "42  [[VIDEOID:26e41479a2cd6585ebd147f2d336ed2a]] U...   \n",
       "\n",
       "                                               images        asin parent_asin  \\\n",
       "40                                                 []  B079KXLF57  B07HGQT28F   \n",
       "42  [{'small_image_url': 'https://m.media-amazon.c...  B09VCXYJHK  B09Y77N1T2   \n",
       "\n",
       "                         user_id               timestamp  helpful_vote  \\\n",
       "40  AFWRGOGF4AI2IHRX7KZ2IYL63RXA 2019-07-27 04:29:39.520             0   \n",
       "42  AGL3NDIOMDLE2BS7WPF6GHLE77ZQ 2022-05-30 00:29:35.253             2   \n",
       "\n",
       "    verified_purchase  \n",
       "40               True  \n",
       "42              False  "
      ]
     },
     "execution_count": 73,
     "metadata": {},
     "output_type": "execute_result"
    }
   ],
   "source": [
    "df_reviews_sample.head(2)"
   ]
  },
  {
   "cell_type": "markdown",
   "id": "0da121e4",
   "metadata": {},
   "source": [
    "### Define preproc in Reviews"
   ]
  },
  {
   "cell_type": "code",
   "execution_count": 74,
   "id": "bf40ee7e",
   "metadata": {},
   "outputs": [],
   "source": [
    "def preprocess_review_data(row):\n",
    "    return f'{row['title']} {row['text']}'"
   ]
  },
  {
   "cell_type": "code",
   "execution_count": 75,
   "id": "d7548a86",
   "metadata": {},
   "outputs": [],
   "source": [
    "def token_count(row, model='text-embedding-3-small'):\n",
    "    encoding = tiktoken.encoding_for_model(model)\n",
    "    return len(encoding.encode(row['preprocessed_data']))"
   ]
  },
  {
   "cell_type": "code",
   "execution_count": 76,
   "id": "4a310ded",
   "metadata": {},
   "outputs": [
    {
     "name": "stderr",
     "output_type": "stream",
     "text": [
      "/var/folders/md/7gpkv8112wb20p4c8cgp49c80000gn/T/ipykernel_63768/3647194985.py:1: SettingWithCopyWarning: \n",
      "A value is trying to be set on a copy of a slice from a DataFrame.\n",
      "Try using .loc[row_indexer,col_indexer] = value instead\n",
      "\n",
      "See the caveats in the documentation: https://pandas.pydata.org/pandas-docs/stable/user_guide/indexing.html#returning-a-view-versus-a-copy\n",
      "  df_reviews_sample['preprocessed_data'] = df_reviews_sample.apply(preprocess_review_data, axis=1)\n"
     ]
    }
   ],
   "source": [
    "df_reviews_sample['preprocessed_data'] = df_reviews_sample.apply(preprocess_review_data, axis=1)"
   ]
  },
  {
   "cell_type": "code",
   "execution_count": 77,
   "id": "13de12ff",
   "metadata": {},
   "outputs": [
    {
     "name": "stderr",
     "output_type": "stream",
     "text": [
      "/var/folders/md/7gpkv8112wb20p4c8cgp49c80000gn/T/ipykernel_63768/2074138920.py:1: SettingWithCopyWarning: \n",
      "A value is trying to be set on a copy of a slice from a DataFrame.\n",
      "Try using .loc[row_indexer,col_indexer] = value instead\n",
      "\n",
      "See the caveats in the documentation: https://pandas.pydata.org/pandas-docs/stable/user_guide/indexing.html#returning-a-view-versus-a-copy\n",
      "  df_reviews_sample['preprocessed_data_token_count'] = df_reviews_sample.apply(token_count, axis=1)\n"
     ]
    }
   ],
   "source": [
    "df_reviews_sample['preprocessed_data_token_count'] = df_reviews_sample.apply(token_count, axis=1)"
   ]
  },
  {
   "cell_type": "code",
   "execution_count": 78,
   "id": "a1f26100",
   "metadata": {},
   "outputs": [
    {
     "data": {
      "text/plain": [
       "3452"
      ]
     },
     "execution_count": 78,
     "metadata": {},
     "output_type": "execute_result"
    }
   ],
   "source": [
    "len(df_reviews_sample)"
   ]
  },
  {
   "cell_type": "code",
   "execution_count": 79,
   "id": "71bcd775",
   "metadata": {},
   "outputs": [],
   "source": [
    "df_reviews_sample=df_reviews_sample[df_reviews_sample['preprocessed_data_token_count']<8192]"
   ]
  },
  {
   "cell_type": "code",
   "execution_count": 80,
   "id": "cdd3bcf2",
   "metadata": {},
   "outputs": [
    {
     "data": {
      "text/plain": [
       "3452"
      ]
     },
     "execution_count": 80,
     "metadata": {},
     "output_type": "execute_result"
    }
   ],
   "source": [
    "len(df_reviews_sample)"
   ]
  },
  {
   "cell_type": "code",
   "execution_count": 81,
   "id": "c50cdd27",
   "metadata": {},
   "outputs": [
    {
     "data": {
      "text/html": [
       "<div>\n",
       "<style scoped>\n",
       "    .dataframe tbody tr th:only-of-type {\n",
       "        vertical-align: middle;\n",
       "    }\n",
       "\n",
       "    .dataframe tbody tr th {\n",
       "        vertical-align: top;\n",
       "    }\n",
       "\n",
       "    .dataframe thead th {\n",
       "        text-align: right;\n",
       "    }\n",
       "</style>\n",
       "<table border=\"1\" class=\"dataframe\">\n",
       "  <thead>\n",
       "    <tr style=\"text-align: right;\">\n",
       "      <th></th>\n",
       "      <th>rating</th>\n",
       "      <th>title</th>\n",
       "      <th>text</th>\n",
       "      <th>images</th>\n",
       "      <th>asin</th>\n",
       "      <th>parent_asin</th>\n",
       "      <th>user_id</th>\n",
       "      <th>timestamp</th>\n",
       "      <th>helpful_vote</th>\n",
       "      <th>verified_purchase</th>\n",
       "      <th>preprocessed_data</th>\n",
       "      <th>preprocessed_data_token_count</th>\n",
       "    </tr>\n",
       "  </thead>\n",
       "  <tbody>\n",
       "    <tr>\n",
       "      <th>40</th>\n",
       "      <td>5</td>\n",
       "      <td>Good antenna replacement</td>\n",
       "      <td>Great product, easy 2min install. 3 months fin...</td>\n",
       "      <td>[]</td>\n",
       "      <td>B079KXLF57</td>\n",
       "      <td>B07HGQT28F</td>\n",
       "      <td>AFWRGOGF4AI2IHRX7KZ2IYL63RXA</td>\n",
       "      <td>2019-07-27 04:29:39.520</td>\n",
       "      <td>0</td>\n",
       "      <td>True</td>\n",
       "      <td>Good antenna replacement Great product, easy 2...</td>\n",
       "      <td>32</td>\n",
       "    </tr>\n",
       "    <tr>\n",
       "      <th>42</th>\n",
       "      <td>5</td>\n",
       "      <td>Solid accent light!</td>\n",
       "      <td>[[VIDEOID:26e41479a2cd6585ebd147f2d336ed2a]] U...</td>\n",
       "      <td>[{'small_image_url': 'https://m.media-amazon.c...</td>\n",
       "      <td>B09VCXYJHK</td>\n",
       "      <td>B09Y77N1T2</td>\n",
       "      <td>AGL3NDIOMDLE2BS7WPF6GHLE77ZQ</td>\n",
       "      <td>2022-05-30 00:29:35.253</td>\n",
       "      <td>2</td>\n",
       "      <td>False</td>\n",
       "      <td>Solid accent light! [[VIDEOID:26e41479a2cd6585...</td>\n",
       "      <td>112</td>\n",
       "    </tr>\n",
       "  </tbody>\n",
       "</table>\n",
       "</div>"
      ],
      "text/plain": [
       "    rating                     title  \\\n",
       "40       5  Good antenna replacement   \n",
       "42       5       Solid accent light!   \n",
       "\n",
       "                                                 text  \\\n",
       "40  Great product, easy 2min install. 3 months fin...   \n",
       "42  [[VIDEOID:26e41479a2cd6585ebd147f2d336ed2a]] U...   \n",
       "\n",
       "                                               images        asin parent_asin  \\\n",
       "40                                                 []  B079KXLF57  B07HGQT28F   \n",
       "42  [{'small_image_url': 'https://m.media-amazon.c...  B09VCXYJHK  B09Y77N1T2   \n",
       "\n",
       "                         user_id               timestamp  helpful_vote  \\\n",
       "40  AFWRGOGF4AI2IHRX7KZ2IYL63RXA 2019-07-27 04:29:39.520             0   \n",
       "42  AGL3NDIOMDLE2BS7WPF6GHLE77ZQ 2022-05-30 00:29:35.253             2   \n",
       "\n",
       "    verified_purchase                                  preprocessed_data  \\\n",
       "40               True  Good antenna replacement Great product, easy 2...   \n",
       "42              False  Solid accent light! [[VIDEOID:26e41479a2cd6585...   \n",
       "\n",
       "    preprocessed_data_token_count  \n",
       "40                             32  \n",
       "42                            112  "
      ]
     },
     "execution_count": 81,
     "metadata": {},
     "output_type": "execute_result"
    }
   ],
   "source": [
    "df_reviews_sample.head(2)"
   ]
  },
  {
   "cell_type": "markdown",
   "id": "d8890bb8",
   "metadata": {},
   "source": [
    "### New collections"
   ]
  },
  {
   "cell_type": "code",
   "execution_count": 121,
   "id": "b4b25f26",
   "metadata": {},
   "outputs": [],
   "source": [
    "qdrant_client = QdrantClient(\n",
    "    url=f'http://localhost:6333',\n",
    "    timeout=60.0\n",
    ")"
   ]
  },
  {
   "cell_type": "code",
   "execution_count": 86,
   "id": "965d26c4",
   "metadata": {},
   "outputs": [
    {
     "ename": "UnexpectedResponse",
     "evalue": "Unexpected Response: 409 (Conflict)\nRaw response content:\nb'{\"status\":{\"error\":\"Wrong input: Collection `Amazon-items-collection-12-items` already exists!\"},\"time\":0.000026}'",
     "output_type": "error",
     "traceback": [
      "\u001b[31m---------------------------------------------------------------------------\u001b[39m",
      "\u001b[31mUnexpectedResponse\u001b[39m                        Traceback (most recent call last)",
      "\u001b[36mCell\u001b[39m\u001b[36m \u001b[39m\u001b[32mIn[86]\u001b[39m\u001b[32m, line 1\u001b[39m\n\u001b[32m----> \u001b[39m\u001b[32m1\u001b[39m \u001b[43mqdrant_client\u001b[49m\u001b[43m.\u001b[49m\u001b[43mcreate_collection\u001b[49m\u001b[43m(\u001b[49m\n\u001b[32m      2\u001b[39m \u001b[43m    \u001b[49m\u001b[43mcollection_name\u001b[49m\u001b[43m=\u001b[49m\u001b[33;43m\"\u001b[39;49m\u001b[33;43mAmazon-items-collection-12-items\u001b[39;49m\u001b[33;43m\"\u001b[39;49m\u001b[43m,\u001b[49m\n\u001b[32m      3\u001b[39m \u001b[43m    \u001b[49m\u001b[43mvectors_config\u001b[49m\u001b[43m=\u001b[49m\u001b[43mVectorParams\u001b[49m\u001b[43m(\u001b[49m\u001b[43msize\u001b[49m\u001b[43m=\u001b[49m\u001b[32;43m1536\u001b[39;49m\u001b[43m,\u001b[49m\u001b[43m \u001b[49m\u001b[43mdistance\u001b[49m\u001b[43m=\u001b[49m\u001b[43mDistance\u001b[49m\u001b[43m.\u001b[49m\u001b[43mCOSINE\u001b[49m\u001b[43m)\u001b[49m\u001b[43m,\u001b[49m\n\u001b[32m      4\u001b[39m \u001b[43m)\u001b[49m\n",
      "\u001b[36mFile \u001b[39m\u001b[32m~/dev/ai-bootcamp/01-ai-engineering-bootcamp/.venv/lib/python3.12/site-packages/qdrant_client/qdrant_client.py:2382\u001b[39m, in \u001b[36mQdrantClient.create_collection\u001b[39m\u001b[34m(self, collection_name, vectors_config, sparse_vectors_config, shard_number, sharding_method, replication_factor, write_consistency_factor, on_disk_payload, hnsw_config, optimizers_config, wal_config, quantization_config, init_from, timeout, strict_mode_config, **kwargs)\u001b[39m\n\u001b[32m   2332\u001b[39m \u001b[38;5;250m\u001b[39m\u001b[33;03m\"\"\"Create empty collection with given parameters\u001b[39;00m\n\u001b[32m   2333\u001b[39m \n\u001b[32m   2334\u001b[39m \u001b[33;03mArgs:\u001b[39;00m\n\u001b[32m   (...)\u001b[39m\u001b[32m   2378\u001b[39m \u001b[33;03m    Operation result\u001b[39;00m\n\u001b[32m   2379\u001b[39m \u001b[33;03m\"\"\"\u001b[39;00m\n\u001b[32m   2380\u001b[39m \u001b[38;5;28;01massert\u001b[39;00m \u001b[38;5;28mlen\u001b[39m(kwargs) == \u001b[32m0\u001b[39m, \u001b[33mf\u001b[39m\u001b[33m\"\u001b[39m\u001b[33mUnknown arguments: \u001b[39m\u001b[38;5;132;01m{\u001b[39;00m\u001b[38;5;28mlist\u001b[39m(kwargs.keys())\u001b[38;5;132;01m}\u001b[39;00m\u001b[33m\"\u001b[39m\n\u001b[32m-> \u001b[39m\u001b[32m2382\u001b[39m \u001b[38;5;28;01mreturn\u001b[39;00m \u001b[38;5;28;43mself\u001b[39;49m\u001b[43m.\u001b[49m\u001b[43m_client\u001b[49m\u001b[43m.\u001b[49m\u001b[43mcreate_collection\u001b[49m\u001b[43m(\u001b[49m\n\u001b[32m   2383\u001b[39m \u001b[43m    \u001b[49m\u001b[43mcollection_name\u001b[49m\u001b[43m=\u001b[49m\u001b[43mcollection_name\u001b[49m\u001b[43m,\u001b[49m\n\u001b[32m   2384\u001b[39m \u001b[43m    \u001b[49m\u001b[43mvectors_config\u001b[49m\u001b[43m=\u001b[49m\u001b[43mvectors_config\u001b[49m\u001b[43m,\u001b[49m\n\u001b[32m   2385\u001b[39m \u001b[43m    \u001b[49m\u001b[43mshard_number\u001b[49m\u001b[43m=\u001b[49m\u001b[43mshard_number\u001b[49m\u001b[43m,\u001b[49m\n\u001b[32m   2386\u001b[39m \u001b[43m    \u001b[49m\u001b[43msharding_method\u001b[49m\u001b[43m=\u001b[49m\u001b[43msharding_method\u001b[49m\u001b[43m,\u001b[49m\n\u001b[32m   2387\u001b[39m \u001b[43m    \u001b[49m\u001b[43mreplication_factor\u001b[49m\u001b[43m=\u001b[49m\u001b[43mreplication_factor\u001b[49m\u001b[43m,\u001b[49m\n\u001b[32m   2388\u001b[39m \u001b[43m    \u001b[49m\u001b[43mwrite_consistency_factor\u001b[49m\u001b[43m=\u001b[49m\u001b[43mwrite_consistency_factor\u001b[49m\u001b[43m,\u001b[49m\n\u001b[32m   2389\u001b[39m \u001b[43m    \u001b[49m\u001b[43mon_disk_payload\u001b[49m\u001b[43m=\u001b[49m\u001b[43mon_disk_payload\u001b[49m\u001b[43m,\u001b[49m\n\u001b[32m   2390\u001b[39m \u001b[43m    \u001b[49m\u001b[43mhnsw_config\u001b[49m\u001b[43m=\u001b[49m\u001b[43mhnsw_config\u001b[49m\u001b[43m,\u001b[49m\n\u001b[32m   2391\u001b[39m \u001b[43m    \u001b[49m\u001b[43moptimizers_config\u001b[49m\u001b[43m=\u001b[49m\u001b[43moptimizers_config\u001b[49m\u001b[43m,\u001b[49m\n\u001b[32m   2392\u001b[39m \u001b[43m    \u001b[49m\u001b[43mwal_config\u001b[49m\u001b[43m=\u001b[49m\u001b[43mwal_config\u001b[49m\u001b[43m,\u001b[49m\n\u001b[32m   2393\u001b[39m \u001b[43m    \u001b[49m\u001b[43mquantization_config\u001b[49m\u001b[43m=\u001b[49m\u001b[43mquantization_config\u001b[49m\u001b[43m,\u001b[49m\n\u001b[32m   2394\u001b[39m \u001b[43m    \u001b[49m\u001b[43minit_from\u001b[49m\u001b[43m=\u001b[49m\u001b[43minit_from\u001b[49m\u001b[43m,\u001b[49m\n\u001b[32m   2395\u001b[39m \u001b[43m    \u001b[49m\u001b[43mtimeout\u001b[49m\u001b[43m=\u001b[49m\u001b[43mtimeout\u001b[49m\u001b[43m,\u001b[49m\n\u001b[32m   2396\u001b[39m \u001b[43m    \u001b[49m\u001b[43msparse_vectors_config\u001b[49m\u001b[43m=\u001b[49m\u001b[43msparse_vectors_config\u001b[49m\u001b[43m,\u001b[49m\n\u001b[32m   2397\u001b[39m \u001b[43m    \u001b[49m\u001b[43mstrict_mode_config\u001b[49m\u001b[43m=\u001b[49m\u001b[43mstrict_mode_config\u001b[49m\u001b[43m,\u001b[49m\n\u001b[32m   2398\u001b[39m \u001b[43m    \u001b[49m\u001b[43m*\u001b[49m\u001b[43m*\u001b[49m\u001b[43mkwargs\u001b[49m\u001b[43m,\u001b[49m\n\u001b[32m   2399\u001b[39m \u001b[43m\u001b[49m\u001b[43m)\u001b[49m\n",
      "\u001b[36mFile \u001b[39m\u001b[32m~/dev/ai-bootcamp/01-ai-engineering-bootcamp/.venv/lib/python3.12/site-packages/qdrant_client/qdrant_remote.py:2815\u001b[39m, in \u001b[36mQdrantRemote.create_collection\u001b[39m\u001b[34m(self, collection_name, vectors_config, shard_number, replication_factor, write_consistency_factor, on_disk_payload, hnsw_config, optimizers_config, wal_config, quantization_config, init_from, timeout, sparse_vectors_config, sharding_method, strict_mode_config, **kwargs)\u001b[39m\n\u001b[32m   2797\u001b[39m     init_from = GrpcToRest.convert_init_from(init_from)\n\u001b[32m   2799\u001b[39m create_collection_request = models.CreateCollection(\n\u001b[32m   2800\u001b[39m     vectors=vectors_config,\n\u001b[32m   2801\u001b[39m     shard_number=shard_number,\n\u001b[32m   (...)\u001b[39m\u001b[32m   2812\u001b[39m     strict_mode_config=strict_mode_config,\n\u001b[32m   2813\u001b[39m )\n\u001b[32m-> \u001b[39m\u001b[32m2815\u001b[39m result: Optional[\u001b[38;5;28mbool\u001b[39m] = \u001b[38;5;28;43mself\u001b[39;49m\u001b[43m.\u001b[49m\u001b[43mhttp\u001b[49m\u001b[43m.\u001b[49m\u001b[43mcollections_api\u001b[49m\u001b[43m.\u001b[49m\u001b[43mcreate_collection\u001b[49m\u001b[43m(\u001b[49m\n\u001b[32m   2816\u001b[39m \u001b[43m    \u001b[49m\u001b[43mcollection_name\u001b[49m\u001b[43m=\u001b[49m\u001b[43mcollection_name\u001b[49m\u001b[43m,\u001b[49m\n\u001b[32m   2817\u001b[39m \u001b[43m    \u001b[49m\u001b[43mcreate_collection\u001b[49m\u001b[43m=\u001b[49m\u001b[43mcreate_collection_request\u001b[49m\u001b[43m,\u001b[49m\n\u001b[32m   2818\u001b[39m \u001b[43m    \u001b[49m\u001b[43mtimeout\u001b[49m\u001b[43m=\u001b[49m\u001b[43mtimeout\u001b[49m\u001b[43m,\u001b[49m\n\u001b[32m   2819\u001b[39m \u001b[43m\u001b[49m\u001b[43m)\u001b[49m.result\n\u001b[32m   2821\u001b[39m \u001b[38;5;28;01massert\u001b[39;00m result \u001b[38;5;129;01mis\u001b[39;00m \u001b[38;5;129;01mnot\u001b[39;00m \u001b[38;5;28;01mNone\u001b[39;00m, \u001b[33m\"\u001b[39m\u001b[33mCreate collection returned None\u001b[39m\u001b[33m\"\u001b[39m\n\u001b[32m   2822\u001b[39m \u001b[38;5;28;01mreturn\u001b[39;00m result\n",
      "\u001b[36mFile \u001b[39m\u001b[32m~/dev/ai-bootcamp/01-ai-engineering-bootcamp/.venv/lib/python3.12/site-packages/qdrant_client/http/api/collections_api.py:294\u001b[39m, in \u001b[36mSyncCollectionsApi.create_collection\u001b[39m\u001b[34m(self, collection_name, timeout, create_collection)\u001b[39m\n\u001b[32m    285\u001b[39m \u001b[38;5;28;01mdef\u001b[39;00m\u001b[38;5;250m \u001b[39m\u001b[34mcreate_collection\u001b[39m(\n\u001b[32m    286\u001b[39m     \u001b[38;5;28mself\u001b[39m,\n\u001b[32m    287\u001b[39m     collection_name: \u001b[38;5;28mstr\u001b[39m,\n\u001b[32m    288\u001b[39m     timeout: \u001b[38;5;28mint\u001b[39m = \u001b[38;5;28;01mNone\u001b[39;00m,\n\u001b[32m    289\u001b[39m     create_collection: m.CreateCollection = \u001b[38;5;28;01mNone\u001b[39;00m,\n\u001b[32m    290\u001b[39m ) -> m.InlineResponse200:\n\u001b[32m    291\u001b[39m \u001b[38;5;250m    \u001b[39m\u001b[33;03m\"\"\"\u001b[39;00m\n\u001b[32m    292\u001b[39m \u001b[33;03m    Create new collection with given parameters\u001b[39;00m\n\u001b[32m    293\u001b[39m \u001b[33;03m    \"\"\"\u001b[39;00m\n\u001b[32m--> \u001b[39m\u001b[32m294\u001b[39m     \u001b[38;5;28;01mreturn\u001b[39;00m \u001b[38;5;28;43mself\u001b[39;49m\u001b[43m.\u001b[49m\u001b[43m_build_for_create_collection\u001b[49m\u001b[43m(\u001b[49m\n\u001b[32m    295\u001b[39m \u001b[43m        \u001b[49m\u001b[43mcollection_name\u001b[49m\u001b[43m=\u001b[49m\u001b[43mcollection_name\u001b[49m\u001b[43m,\u001b[49m\n\u001b[32m    296\u001b[39m \u001b[43m        \u001b[49m\u001b[43mtimeout\u001b[49m\u001b[43m=\u001b[49m\u001b[43mtimeout\u001b[49m\u001b[43m,\u001b[49m\n\u001b[32m    297\u001b[39m \u001b[43m        \u001b[49m\u001b[43mcreate_collection\u001b[49m\u001b[43m=\u001b[49m\u001b[43mcreate_collection\u001b[49m\u001b[43m,\u001b[49m\n\u001b[32m    298\u001b[39m \u001b[43m    \u001b[49m\u001b[43m)\u001b[49m\n",
      "\u001b[36mFile \u001b[39m\u001b[32m~/dev/ai-bootcamp/01-ai-engineering-bootcamp/.venv/lib/python3.12/site-packages/qdrant_client/http/api/collections_api.py:96\u001b[39m, in \u001b[36m_CollectionsApi._build_for_create_collection\u001b[39m\u001b[34m(self, collection_name, timeout, create_collection)\u001b[39m\n\u001b[32m     94\u001b[39m \u001b[38;5;28;01mif\u001b[39;00m \u001b[33m\"\u001b[39m\u001b[33mContent-Type\u001b[39m\u001b[33m\"\u001b[39m \u001b[38;5;129;01mnot\u001b[39;00m \u001b[38;5;129;01min\u001b[39;00m headers:\n\u001b[32m     95\u001b[39m     headers[\u001b[33m\"\u001b[39m\u001b[33mContent-Type\u001b[39m\u001b[33m\"\u001b[39m] = \u001b[33m\"\u001b[39m\u001b[33mapplication/json\u001b[39m\u001b[33m\"\u001b[39m\n\u001b[32m---> \u001b[39m\u001b[32m96\u001b[39m \u001b[38;5;28;01mreturn\u001b[39;00m \u001b[38;5;28;43mself\u001b[39;49m\u001b[43m.\u001b[49m\u001b[43mapi_client\u001b[49m\u001b[43m.\u001b[49m\u001b[43mrequest\u001b[49m\u001b[43m(\u001b[49m\n\u001b[32m     97\u001b[39m \u001b[43m    \u001b[49m\u001b[43mtype_\u001b[49m\u001b[43m=\u001b[49m\u001b[43mm\u001b[49m\u001b[43m.\u001b[49m\u001b[43mInlineResponse200\u001b[49m\u001b[43m,\u001b[49m\n\u001b[32m     98\u001b[39m \u001b[43m    \u001b[49m\u001b[43mmethod\u001b[49m\u001b[43m=\u001b[49m\u001b[33;43m\"\u001b[39;49m\u001b[33;43mPUT\u001b[39;49m\u001b[33;43m\"\u001b[39;49m\u001b[43m,\u001b[49m\n\u001b[32m     99\u001b[39m \u001b[43m    \u001b[49m\u001b[43murl\u001b[49m\u001b[43m=\u001b[49m\u001b[33;43m\"\u001b[39;49m\u001b[33;43m/collections/\u001b[39;49m\u001b[38;5;132;43;01m{collection_name}\u001b[39;49;00m\u001b[33;43m\"\u001b[39;49m\u001b[43m,\u001b[49m\n\u001b[32m    100\u001b[39m \u001b[43m    \u001b[49m\u001b[43mheaders\u001b[49m\u001b[43m=\u001b[49m\u001b[43mheaders\u001b[49m\u001b[43m \u001b[49m\u001b[38;5;28;43;01mif\u001b[39;49;00m\u001b[43m \u001b[49m\u001b[43mheaders\u001b[49m\u001b[43m \u001b[49m\u001b[38;5;28;43;01melse\u001b[39;49;00m\u001b[43m \u001b[49m\u001b[38;5;28;43;01mNone\u001b[39;49;00m\u001b[43m,\u001b[49m\n\u001b[32m    101\u001b[39m \u001b[43m    \u001b[49m\u001b[43mpath_params\u001b[49m\u001b[43m=\u001b[49m\u001b[43mpath_params\u001b[49m\u001b[43m,\u001b[49m\n\u001b[32m    102\u001b[39m \u001b[43m    \u001b[49m\u001b[43mparams\u001b[49m\u001b[43m=\u001b[49m\u001b[43mquery_params\u001b[49m\u001b[43m,\u001b[49m\n\u001b[32m    103\u001b[39m \u001b[43m    \u001b[49m\u001b[43mcontent\u001b[49m\u001b[43m=\u001b[49m\u001b[43mbody\u001b[49m\u001b[43m,\u001b[49m\n\u001b[32m    104\u001b[39m \u001b[43m\u001b[49m\u001b[43m)\u001b[49m\n",
      "\u001b[36mFile \u001b[39m\u001b[32m~/dev/ai-bootcamp/01-ai-engineering-bootcamp/.venv/lib/python3.12/site-packages/qdrant_client/http/api_client.py:95\u001b[39m, in \u001b[36mApiClient.request\u001b[39m\u001b[34m(self, type_, method, url, path_params, **kwargs)\u001b[39m\n\u001b[32m     93\u001b[39m     kwargs[\u001b[33m\"\u001b[39m\u001b[33mtimeout\u001b[39m\u001b[33m\"\u001b[39m] = \u001b[38;5;28mint\u001b[39m(kwargs[\u001b[33m\"\u001b[39m\u001b[33mparams\u001b[39m\u001b[33m\"\u001b[39m][\u001b[33m\"\u001b[39m\u001b[33mtimeout\u001b[39m\u001b[33m\"\u001b[39m])\n\u001b[32m     94\u001b[39m request = \u001b[38;5;28mself\u001b[39m._client.build_request(method, url, **kwargs)\n\u001b[32m---> \u001b[39m\u001b[32m95\u001b[39m \u001b[38;5;28;01mreturn\u001b[39;00m \u001b[38;5;28;43mself\u001b[39;49m\u001b[43m.\u001b[49m\u001b[43msend\u001b[49m\u001b[43m(\u001b[49m\u001b[43mrequest\u001b[49m\u001b[43m,\u001b[49m\u001b[43m \u001b[49m\u001b[43mtype_\u001b[49m\u001b[43m)\u001b[49m\n",
      "\u001b[36mFile \u001b[39m\u001b[32m~/dev/ai-bootcamp/01-ai-engineering-bootcamp/.venv/lib/python3.12/site-packages/qdrant_client/http/api_client.py:130\u001b[39m, in \u001b[36mApiClient.send\u001b[39m\u001b[34m(self, request, type_)\u001b[39m\n\u001b[32m    128\u001b[39m     \u001b[38;5;28;01mexcept\u001b[39;00m ValidationError \u001b[38;5;28;01mas\u001b[39;00m e:\n\u001b[32m    129\u001b[39m         \u001b[38;5;28;01mraise\u001b[39;00m ResponseHandlingException(e)\n\u001b[32m--> \u001b[39m\u001b[32m130\u001b[39m \u001b[38;5;28;01mraise\u001b[39;00m UnexpectedResponse.for_response(response)\n",
      "\u001b[31mUnexpectedResponse\u001b[39m: Unexpected Response: 409 (Conflict)\nRaw response content:\nb'{\"status\":{\"error\":\"Wrong input: Collection `Amazon-items-collection-12-items` already exists!\"},\"time\":0.000026}'"
     ]
    }
   ],
   "source": [
    "qdrant_client.create_collection(\n",
    "    collection_name=\"Amazon-items-collection-12-items\",\n",
    "    vectors_config=VectorParams(size=1536, distance=Distance.COSINE),\n",
    ")"
   ]
  },
  {
   "cell_type": "code",
   "execution_count": 87,
   "id": "dc2ea69d",
   "metadata": {},
   "outputs": [
    {
     "data": {
      "text/plain": [
       "UpdateResult(operation_id=1, status=<UpdateStatus.COMPLETED: 'completed'>)"
      ]
     },
     "execution_count": 87,
     "metadata": {},
     "output_type": "execute_result"
    }
   ],
   "source": [
    "qdrant_client.create_payload_index(\n",
    "    collection_name=\"Amazon-items-collection-12-items\",\n",
    "    field_name=\"text\",\n",
    "    field_schema=PayloadSchemaType.TEXT\n",
    ")"
   ]
  },
  {
   "cell_type": "code",
   "execution_count": 89,
   "id": "eedbfc46",
   "metadata": {},
   "outputs": [
    {
     "data": {
      "text/plain": [
       "UpdateResult(operation_id=3, status=<UpdateStatus.COMPLETED: 'completed'>)"
      ]
     },
     "execution_count": 89,
     "metadata": {},
     "output_type": "execute_result"
    }
   ],
   "source": [
    "qdrant_client.create_payload_index(\n",
    "    collection_name=\"Amazon-items-collection-12-items\",\n",
    "    field_name=\"parent_asin\",\n",
    "    field_schema=PayloadSchemaType.KEYWORD\n",
    ")"
   ]
  },
  {
   "cell_type": "markdown",
   "id": "5a785b42",
   "metadata": {},
   "source": [
    "## Create reviews collections"
   ]
  },
  {
   "cell_type": "code",
   "execution_count": 92,
   "id": "7a3ea1a2",
   "metadata": {},
   "outputs": [
    {
     "data": {
      "text/plain": [
       "True"
      ]
     },
     "execution_count": 92,
     "metadata": {},
     "output_type": "execute_result"
    }
   ],
   "source": [
    "qdrant_client.create_collection(\n",
    "    collection_name=\"Amazon-items-collection-12-reviews\",\n",
    "    vectors_config=VectorParams(size=1536, distance=Distance.COSINE),\n",
    ")"
   ]
  },
  {
   "cell_type": "code",
   "execution_count": 93,
   "id": "575eae8f",
   "metadata": {},
   "outputs": [
    {
     "data": {
      "text/plain": [
       "UpdateResult(operation_id=1, status=<UpdateStatus.COMPLETED: 'completed'>)"
      ]
     },
     "execution_count": 93,
     "metadata": {},
     "output_type": "execute_result"
    }
   ],
   "source": [
    "qdrant_client.create_payload_index(\n",
    "    collection_name=\"Amazon-items-collection-12-reviews\",\n",
    "    field_name=\"parent_asin\",\n",
    "    field_schema=PayloadSchemaType.KEYWORD\n",
    ")"
   ]
  },
  {
   "cell_type": "markdown",
   "id": "d22e8070",
   "metadata": {},
   "source": [
    "## Embedding funcs"
   ]
  },
  {
   "cell_type": "code",
   "execution_count": 94,
   "id": "1922adfa",
   "metadata": {},
   "outputs": [],
   "source": [
    "import openai\n",
    "\n",
    "def get_embedding(text, model=\"text-embedding-3-small\"):\n",
    "    response = openai.embeddings.create(\n",
    "        input=[text],\n",
    "        model=model,\n",
    "    )\n",
    "    return response.data[0].embedding"
   ]
  },
  {
   "cell_type": "code",
   "execution_count": 101,
   "id": "58c46ef2",
   "metadata": {},
   "outputs": [],
   "source": [
    "def get_embeddings_batch(text_list, model=\"text-embedding-3-small\", batch_size=100):\n",
    "    if len(text_list) <= batch_size:\n",
    "        response = openai.embeddings.create(\n",
    "            input=text_list,\n",
    "            model=model,\n",
    "        )\n",
    "        return [embedding.embedding for embedding in response.data]\n",
    "    \n",
    "    all_embeddings = []\n",
    "    counter = 1\n",
    "\n",
    "    for i in range(0, len(text_list), batch_size):\n",
    "        batch = text_list[i:i+batch_size]\n",
    "        response = openai.embeddings.create(\n",
    "            input=batch,\n",
    "            model=model,\n",
    "        )\n",
    "        all_embeddings.extend([embedding.embedding for embedding in response.data])\n",
    "        counter += 1\n",
    "        print(f\"Processed {counter * batch_size} of {len(text_list)}\")\n",
    "    return all_embeddings"
   ]
  },
  {
   "cell_type": "markdown",
   "id": "8d0e6e0e",
   "metadata": {},
   "source": [
    "## Embed text and store extra values"
   ]
  },
  {
   "cell_type": "code",
   "execution_count": 102,
   "id": "5aa3ef2a",
   "metadata": {},
   "outputs": [
    {
     "data": {
      "text/plain": [
       "{'preprocessed_data': 'Cubilux Bidirectional 4-Channel 6.35mm Audio Selector, 1x TRS to 4X TRS Stereo 4-Port 1/4” Quarter Inch AUX Switch Box for Speaker, Headphones, Subwoofer, Home Audio System, Mixer, Amplifier [Bidirectional 4 Ports Stereo Audio Switch] – Cubilux 6.35mm Audio Selector enable audio switching from 4 inputs to 1 output or 1 input to 4 outputs. Plug and play without driver or extra power supply. [Knob Control] – Easily switch audio channel with a single twist. [Knob Control] – Easily switch audio channel with a single twist. [Lossless Sound Quality] – Full Aluminum alloy housing and gold-plated 1/4 sockets provide full isolation of electronic interference and ensure no-loss transmission of audio signal without static or ground noise. [Wide Compatibility] – Compatible with studio monitor, headphones, speakers, mixers, amplifiers etc. for stereo input or output. Please note that the adapter does NOT support microphone input. [Perfect for Desktop Audio System] – With antiskid silicone pad on the bottom, the selector is suitable for any surface.',\n",
       " 'first_large_image': 'https://m.media-amazon.com/images/I/31ru008gzUL._AC_.jpg',\n",
       " 'rating_number': 432,\n",
       " 'price': 22.8,\n",
       " 'average_rating': 4.4,\n",
       " 'parent_asin': 'B09QM7C4FJ'}"
      ]
     },
     "execution_count": 102,
     "metadata": {},
     "output_type": "execute_result"
    }
   ],
   "source": [
    "data_to_embed = df_items_sample[['preprocessed_data', 'first_large_image', 'rating_number', 'price', 'average_rating', 'parent_asin']].to_dict(orient='records')\n",
    "\n",
    "data_to_embed[0]\n",
    "\n"
   ]
  },
  {
   "cell_type": "code",
   "execution_count": 103,
   "id": "7f832720",
   "metadata": {},
   "outputs": [],
   "source": [
    "text_to_embed_items = [data['preprocessed_data'] for data in data_to_embed]"
   ]
  },
  {
   "cell_type": "code",
   "execution_count": 106,
   "id": "183c5ab2",
   "metadata": {},
   "outputs": [],
   "source": [
    "embedding_items = get_embeddings_batch(text_to_embed_items)"
   ]
  },
  {
   "cell_type": "code",
   "execution_count": 109,
   "id": "6d5e27e2",
   "metadata": {},
   "outputs": [
    {
     "data": {
      "text/plain": [
       "1536"
      ]
     },
     "execution_count": 109,
     "metadata": {},
     "output_type": "execute_result"
    }
   ],
   "source": [
    "len(embedding_items[0])"
   ]
  },
  {
   "cell_type": "code",
   "execution_count": 110,
   "id": "013e84b7",
   "metadata": {},
   "outputs": [],
   "source": [
    "pointstructs = []\n",
    "i=1\n",
    "for embedding, data in zip(embedding_items, data_to_embed):\n",
    "    pointstructs.append(PointStruct(\n",
    "        id=i,\n",
    "        vector=embedding,\n",
    "        payload={\n",
    "            \"text\": data['preprocessed_data'],\n",
    "            \"first_large_image\": data['first_large_image'],\n",
    "            \"average_rating\": data['average_rating'],\n",
    "            \"rating_number\": data['rating_number'],\n",
    "            \"price\": data['price'],\n",
    "            \"parent_asin\": data['parent_asin'],\n",
    "        }\n",
    "    ))\n",
    "    i += 1"
   ]
  },
  {
   "cell_type": "code",
   "execution_count": 111,
   "id": "19691a45",
   "metadata": {},
   "outputs": [
    {
     "data": {
      "text/plain": [
       "UpdateResult(operation_id=4, status=<UpdateStatus.COMPLETED: 'completed'>)"
      ]
     },
     "execution_count": 111,
     "metadata": {},
     "output_type": "execute_result"
    }
   ],
   "source": [
    "qdrant_client.upsert(\n",
    "    collection_name=\"Amazon-items-collection-12-items\",\n",
    "    points=pointstructs,\n",
    "    wait=True\n",
    ")"
   ]
  },
  {
   "cell_type": "markdown",
   "id": "f8293f28",
   "metadata": {},
   "source": [
    "### REVIEWS inserting"
   ]
  },
  {
   "cell_type": "code",
   "execution_count": 113,
   "id": "1bf8e377",
   "metadata": {},
   "outputs": [],
   "source": [
    "data_to_embed_reviews = df_reviews_sample[['preprocessed_data', 'parent_asin']].to_dict(orient='records')"
   ]
  },
  {
   "cell_type": "code",
   "execution_count": 115,
   "id": "36a49361",
   "metadata": {},
   "outputs": [
    {
     "data": {
      "text/plain": [
       "3452"
      ]
     },
     "execution_count": 115,
     "metadata": {},
     "output_type": "execute_result"
    }
   ],
   "source": [
    "text_to_embed_reviews = [data['preprocessed_data'] for data in data_to_embed_reviews]\n",
    "len(text_to_embed_reviews)"
   ]
  },
  {
   "cell_type": "code",
   "execution_count": 116,
   "id": "2fba2e72",
   "metadata": {},
   "outputs": [
    {
     "name": "stdout",
     "output_type": "stream",
     "text": [
      "Processed 200 of 3452\n",
      "Processed 300 of 3452\n",
      "Processed 400 of 3452\n",
      "Processed 500 of 3452\n",
      "Processed 600 of 3452\n",
      "Processed 700 of 3452\n",
      "Processed 800 of 3452\n",
      "Processed 900 of 3452\n",
      "Processed 1000 of 3452\n",
      "Processed 1100 of 3452\n",
      "Processed 1200 of 3452\n",
      "Processed 1300 of 3452\n",
      "Processed 1400 of 3452\n",
      "Processed 1500 of 3452\n",
      "Processed 1600 of 3452\n",
      "Processed 1700 of 3452\n",
      "Processed 1800 of 3452\n",
      "Processed 1900 of 3452\n",
      "Processed 2000 of 3452\n",
      "Processed 2100 of 3452\n",
      "Processed 2200 of 3452\n",
      "Processed 2300 of 3452\n",
      "Processed 2400 of 3452\n",
      "Processed 2500 of 3452\n",
      "Processed 2600 of 3452\n",
      "Processed 2700 of 3452\n",
      "Processed 2800 of 3452\n",
      "Processed 2900 of 3452\n",
      "Processed 3000 of 3452\n",
      "Processed 3100 of 3452\n",
      "Processed 3200 of 3452\n",
      "Processed 3300 of 3452\n",
      "Processed 3400 of 3452\n",
      "Processed 3500 of 3452\n",
      "Processed 3600 of 3452\n"
     ]
    }
   ],
   "source": [
    "embeddings_reviews = get_embeddings_batch(text_to_embed_reviews)"
   ]
  },
  {
   "cell_type": "code",
   "execution_count": 118,
   "id": "5571a979",
   "metadata": {},
   "outputs": [
    {
     "data": {
      "text/plain": [
       "3452"
      ]
     },
     "execution_count": 118,
     "metadata": {},
     "output_type": "execute_result"
    }
   ],
   "source": [
    "len(embeddings_reviews)"
   ]
  },
  {
   "cell_type": "code",
   "execution_count": 119,
   "id": "f717055a",
   "metadata": {},
   "outputs": [],
   "source": [
    "pointstructs_reviews = []\n",
    "i=1\n",
    "for embedding, data in zip(embeddings_reviews, data_to_embed_reviews):\n",
    "    pointstructs_reviews.append(PointStruct(\n",
    "        id=i,\n",
    "        vector=embedding,\n",
    "        payload={\n",
    "            \"text\": data['preprocessed_data'],\n",
    "            \"parent_asin\": data['parent_asin'],\n",
    "        }\n",
    "    ))\n",
    "    i += 1"
   ]
  },
  {
   "cell_type": "code",
   "execution_count": 125,
   "id": "1a9dbaa9",
   "metadata": {},
   "outputs": [
    {
     "name": "stdout",
     "output_type": "stream",
     "text": [
      "Inserted chunk 1 of 34\n",
      "Inserted chunk 2 of 34\n",
      "Inserted chunk 3 of 34\n",
      "Inserted chunk 4 of 34\n",
      "Inserted chunk 5 of 34\n",
      "Inserted chunk 6 of 34\n",
      "Inserted chunk 7 of 34\n",
      "Inserted chunk 8 of 34\n",
      "Inserted chunk 9 of 34\n",
      "Inserted chunk 10 of 34\n",
      "Inserted chunk 11 of 34\n",
      "Inserted chunk 12 of 34\n",
      "Inserted chunk 13 of 34\n",
      "Inserted chunk 14 of 34\n",
      "Inserted chunk 15 of 34\n",
      "Inserted chunk 16 of 34\n",
      "Inserted chunk 17 of 34\n",
      "Inserted chunk 18 of 34\n",
      "Inserted chunk 19 of 34\n",
      "Inserted chunk 20 of 34\n",
      "Inserted chunk 21 of 34\n",
      "Inserted chunk 22 of 34\n",
      "Inserted chunk 23 of 34\n",
      "Inserted chunk 24 of 34\n",
      "Inserted chunk 25 of 34\n",
      "Inserted chunk 26 of 34\n",
      "Inserted chunk 27 of 34\n",
      "Inserted chunk 28 of 34\n",
      "Inserted chunk 29 of 34\n",
      "Inserted chunk 30 of 34\n",
      "Inserted chunk 31 of 34\n",
      "Inserted chunk 32 of 34\n",
      "Inserted chunk 33 of 34\n",
      "Inserted chunk 34 of 34\n",
      "Inserted chunk 35 of 34\n"
     ]
    }
   ],
   "source": [
    "# Insert reviews in chunks to avoid overloading the server\n",
    "chunk_size = 100  # You can adjust this as needed\n",
    "for start in range(0, len(pointstructs_reviews), chunk_size):\n",
    "    end = start + chunk_size\n",
    "    chunk = pointstructs_reviews[start:end]\n",
    "    qdrant_client.upsert(\n",
    "        collection_name=\"Amazon-items-collection-12-reviews\",\n",
    "        points=chunk,\n",
    "        wait=True\n",
    "    )\n",
    "    print(f\"Inserted chunk {start // chunk_size + 1} of {len(pointstructs_reviews) // chunk_size}\")"
   ]
  },
  {
   "cell_type": "markdown",
   "id": "d3abd1f1",
   "metadata": {},
   "source": [
    "### hybrid + RRF"
   ]
  },
  {
   "cell_type": "code",
   "execution_count": 133,
   "id": "6ad04e09",
   "metadata": {},
   "outputs": [],
   "source": [
    "def retrieve_data(query, k=5):\n",
    "    query_embedding = get_embedding(query)\n",
    "\n",
    "    results = qdrant_client.query_points(\n",
    "        collection_name=\"Amazon-items-collection-12-items\",\n",
    "        prefetch=[\n",
    "            Prefetch(\n",
    "                query=query_embedding,\n",
    "                limit=20,\n",
    "            ),\n",
    "            Prefetch(\n",
    "                filter=Filter(\n",
    "                    must=[\n",
    "                        FieldCondition(\n",
    "                            key=\"text\",\n",
    "                            match=MatchText(\n",
    "                                text=query,\n",
    "                            )\n",
    "                        )\n",
    "                    ]\n",
    "                ),\n",
    "                limit=20\n",
    "            )\n",
    "        ],\n",
    "        query=FusionQuery(fusion=\"rrf\"),\n",
    "        limit=k,\n",
    "    )\n",
    "    return results"
   ]
  },
  {
   "cell_type": "code",
   "execution_count": 134,
   "id": "439f4e7c",
   "metadata": {},
   "outputs": [
    {
     "data": {
      "text/html": [
       "<pre style=\"white-space:pre;overflow-x:auto;line-height:normal;font-family:Menlo,'DejaVu Sans Mono',consolas,'Courier New',monospace\"><span style=\"font-weight: bold\">[</span>\n",
       "<span style=\"color: #7fbf7f; text-decoration-color: #7fbf7f\">│   </span><span style=\"color: #800080; text-decoration-color: #800080; font-weight: bold\">ScoredPoint</span><span style=\"font-weight: bold\">(</span>\n",
       "<span style=\"color: #7fbf7f; text-decoration-color: #7fbf7f\">│   │   </span><span style=\"color: #808000; text-decoration-color: #808000\">id</span>=<span style=\"color: #008080; text-decoration-color: #008080; font-weight: bold\">2</span>,\n",
       "<span style=\"color: #7fbf7f; text-decoration-color: #7fbf7f\">│   │   </span><span style=\"color: #808000; text-decoration-color: #808000\">version</span>=<span style=\"color: #008080; text-decoration-color: #008080; font-weight: bold\">4</span>,\n",
       "<span style=\"color: #7fbf7f; text-decoration-color: #7fbf7f\">│   │   </span><span style=\"color: #808000; text-decoration-color: #808000\">score</span>=<span style=\"color: #008080; text-decoration-color: #008080; font-weight: bold\">1.0</span>,\n",
       "<span style=\"color: #7fbf7f; text-decoration-color: #7fbf7f\">│   │   </span><span style=\"color: #808000; text-decoration-color: #808000\">payload</span>=<span style=\"font-weight: bold\">{</span>\n",
       "<span style=\"color: #7fbf7f; text-decoration-color: #7fbf7f\">│   │   │   </span><span style=\"color: #008000; text-decoration-color: #008000\">'text'</span>: <span style=\"color: #008000; text-decoration-color: #008000\">'Tonfarb Bone Conduction Headphones Bluetooth, Open Ear Headphones Wireless Running Earphone with Mic for Sports Hiking Running Driving Cycling Fitness Workouts Walking 【Open Ear Design】 Bone conduction headphones bluetooth deliver premium sound through the cheekbones. In contrast to over-ear headphones, the wireless running headphones make you a burden-free wearing. It can avoid some dangerous situations from happening as you can also hear the surrounding sound when you use it to listen to music. 【Premium Sound Quality】Bone conduction design, bringing high-quality sound quality, low-frequency thick, mid-frequency sensitive, high-frequency penetration, open space feeling and excellent sound performance. When you turn up the volume, there will be a high-intensity vibration, which will bring a different dynamic to your movement. 【7 Hours Play Time】The open ear headphones has the usb charging port and include 165mAh battery, enjoy 7 hours of non-stop music or podcasts, built-in microphone achieves clearer phone call for crystal clear calls. NOTE: Please keep the headphones dry without water enter in. 【Lightweight &amp; Stable Fit】Our sport earphones weigh 26 grams, made of premium soft silicone material, keeps running relax, the open ear design helps you achieve the true painless and harmless as the earphone is no need to plug into the ear canal. With ergonomic surround and streamlined sinking design, the sports bluetooth headphones can keep on ear when running, dance, or wearing glasses. 【Bluetooth 5.0 】Over ear headphones with excellent sound quality and clarity of up to 10 m for smartphones or tablets with iOS Android and Mac.The wireless sports headphones only have one multi-function button to control all function, it is easy to use.'</span>,\n",
       "<span style=\"color: #7fbf7f; text-decoration-color: #7fbf7f\">│   │   │   </span><span style=\"color: #008000; text-decoration-color: #008000\">'first_large_image'</span>: <span style=\"color: #008000; text-decoration-color: #008000\">'https://m.media-amazon.com/images/I/31izYsl0N8L._AC_.jpg'</span>,\n",
       "<span style=\"color: #7fbf7f; text-decoration-color: #7fbf7f\">│   │   │   </span><span style=\"color: #008000; text-decoration-color: #008000\">'average_rating'</span>: <span style=\"color: #008080; text-decoration-color: #008080; font-weight: bold\">4.2</span>,\n",
       "<span style=\"color: #7fbf7f; text-decoration-color: #7fbf7f\">│   │   │   </span><span style=\"color: #008000; text-decoration-color: #008000\">'rating_number'</span>: <span style=\"color: #008080; text-decoration-color: #008080; font-weight: bold\">115</span>,\n",
       "<span style=\"color: #7fbf7f; text-decoration-color: #7fbf7f\">│   │   │   </span><span style=\"color: #008000; text-decoration-color: #008000\">'price'</span>: <span style=\"color: #008080; text-decoration-color: #008080; font-weight: bold\">16.99</span>,\n",
       "<span style=\"color: #7fbf7f; text-decoration-color: #7fbf7f\">│   │   │   </span><span style=\"color: #008000; text-decoration-color: #008000\">'parent_asin'</span>: <span style=\"color: #008000; text-decoration-color: #008000\">'B0BLTXNNBB'</span>\n",
       "<span style=\"color: #7fbf7f; text-decoration-color: #7fbf7f\">│   │   </span><span style=\"font-weight: bold\">}</span>,\n",
       "<span style=\"color: #7fbf7f; text-decoration-color: #7fbf7f\">│   │   </span><span style=\"color: #808000; text-decoration-color: #808000\">vector</span>=<span style=\"color: #800080; text-decoration-color: #800080; font-style: italic\">None</span>,\n",
       "<span style=\"color: #7fbf7f; text-decoration-color: #7fbf7f\">│   │   </span><span style=\"color: #808000; text-decoration-color: #808000\">shard_key</span>=<span style=\"color: #800080; text-decoration-color: #800080; font-style: italic\">None</span>,\n",
       "<span style=\"color: #7fbf7f; text-decoration-color: #7fbf7f\">│   │   </span><span style=\"color: #808000; text-decoration-color: #808000\">order_value</span>=<span style=\"color: #800080; text-decoration-color: #800080; font-style: italic\">None</span>\n",
       "<span style=\"color: #7fbf7f; text-decoration-color: #7fbf7f\">│   </span><span style=\"font-weight: bold\">)</span>,\n",
       "<span style=\"color: #7fbf7f; text-decoration-color: #7fbf7f\">│   </span><span style=\"color: #800080; text-decoration-color: #800080; font-weight: bold\">ScoredPoint</span><span style=\"font-weight: bold\">(</span>\n",
       "<span style=\"color: #7fbf7f; text-decoration-color: #7fbf7f\">│   │   </span><span style=\"color: #808000; text-decoration-color: #808000\">id</span>=<span style=\"color: #008080; text-decoration-color: #008080; font-weight: bold\">22</span>,\n",
       "<span style=\"color: #7fbf7f; text-decoration-color: #7fbf7f\">│   │   </span><span style=\"color: #808000; text-decoration-color: #808000\">version</span>=<span style=\"color: #008080; text-decoration-color: #008080; font-weight: bold\">4</span>,\n",
       "<span style=\"color: #7fbf7f; text-decoration-color: #7fbf7f\">│   │   </span><span style=\"color: #808000; text-decoration-color: #808000\">score</span>=<span style=\"color: #008080; text-decoration-color: #008080; font-weight: bold\">0.6666667</span>,\n",
       "<span style=\"color: #7fbf7f; text-decoration-color: #7fbf7f\">│   │   </span><span style=\"color: #808000; text-decoration-color: #808000\">payload</span>=<span style=\"font-weight: bold\">{</span>\n",
       "<span style=\"color: #7fbf7f; text-decoration-color: #7fbf7f\">│   │   │   </span><span style=\"color: #008000; text-decoration-color: #008000\">'text'</span>: <span style=\"color: #008000; text-decoration-color: #008000\">'IKG Wireless Earbuds, Bluetooth Headphones 5.3 Mini Wireless Headphones in Ear, 37H Playtime, Deep Bass, Bluetooth Earbuds Built-in Mic, CVC8.0 Clear Call, IPX7 Waterproof, LED Display, USB-C, Sport Stereo Quality: The wireless headphones features a 14.2mm titaniumized composite diaphragm driver. They offer thick bass, rich mids and crystal clear highs. Their sound quality exceeds 95% of half in-ear headphones. Bluetooth 5.3: Bluetooth earbuds are equipped with the latest Bluetooth 5.3 technology, providing an unprecedented audio experience with faster transmission speeds over short distances and more stable signal connections. 37 Hours of Playtime: The true wireless earbuds can be used for 7 hours of continuous use and with the charging case, you can listen for 37 hours. It only takes 15 minutes to get an hour of play time. Comfortable Fit: The bluetooth headphones in ear are ergonomically designed to fit the inner contours of the ear perfectly. They ensure comfort for the ear during use and do not fall off easily. IPX7 Waterproof: The wireless earphones feature nano-coated IPX7 waterproof technology, perfect for listening to music while hiking, biking or running.'</span>,\n",
       "<span style=\"color: #7fbf7f; text-decoration-color: #7fbf7f\">│   │   │   </span><span style=\"color: #008000; text-decoration-color: #008000\">'first_large_image'</span>: <span style=\"color: #008000; text-decoration-color: #008000\">'https://m.media-amazon.com/images/I/31hx160CgEL._AC_.jpg'</span>,\n",
       "<span style=\"color: #7fbf7f; text-decoration-color: #7fbf7f\">│   │   │   </span><span style=\"color: #008000; text-decoration-color: #008000\">'average_rating'</span>: <span style=\"color: #008080; text-decoration-color: #008080; font-weight: bold\">4.8</span>,\n",
       "<span style=\"color: #7fbf7f; text-decoration-color: #7fbf7f\">│   │   │   </span><span style=\"color: #008000; text-decoration-color: #008000\">'rating_number'</span>: <span style=\"color: #008080; text-decoration-color: #008080; font-weight: bold\">120</span>,\n",
       "<span style=\"color: #7fbf7f; text-decoration-color: #7fbf7f\">│   │   │   </span><span style=\"color: #008000; text-decoration-color: #008000\">'price'</span>: <span style=\"color: #008080; text-decoration-color: #008080; font-weight: bold\">9.99</span>,\n",
       "<span style=\"color: #7fbf7f; text-decoration-color: #7fbf7f\">│   │   │   </span><span style=\"color: #008000; text-decoration-color: #008000\">'parent_asin'</span>: <span style=\"color: #008000; text-decoration-color: #008000\">'B0CCKQF5GF'</span>\n",
       "<span style=\"color: #7fbf7f; text-decoration-color: #7fbf7f\">│   │   </span><span style=\"font-weight: bold\">}</span>,\n",
       "<span style=\"color: #7fbf7f; text-decoration-color: #7fbf7f\">│   │   </span><span style=\"color: #808000; text-decoration-color: #808000\">vector</span>=<span style=\"color: #800080; text-decoration-color: #800080; font-style: italic\">None</span>,\n",
       "<span style=\"color: #7fbf7f; text-decoration-color: #7fbf7f\">│   │   </span><span style=\"color: #808000; text-decoration-color: #808000\">shard_key</span>=<span style=\"color: #800080; text-decoration-color: #800080; font-style: italic\">None</span>,\n",
       "<span style=\"color: #7fbf7f; text-decoration-color: #7fbf7f\">│   │   </span><span style=\"color: #808000; text-decoration-color: #808000\">order_value</span>=<span style=\"color: #800080; text-decoration-color: #800080; font-style: italic\">None</span>\n",
       "<span style=\"color: #7fbf7f; text-decoration-color: #7fbf7f\">│   </span><span style=\"font-weight: bold\">)</span>\n",
       "<span style=\"font-weight: bold\">]</span>\n",
       "</pre>\n"
      ],
      "text/plain": [
       "\u001b[1m[\u001b[0m\n",
       "\u001b[2;32m│   \u001b[0m\u001b[1;35mScoredPoint\u001b[0m\u001b[1m(\u001b[0m\n",
       "\u001b[2;32m│   │   \u001b[0m\u001b[33mid\u001b[0m=\u001b[1;36m2\u001b[0m,\n",
       "\u001b[2;32m│   │   \u001b[0m\u001b[33mversion\u001b[0m=\u001b[1;36m4\u001b[0m,\n",
       "\u001b[2;32m│   │   \u001b[0m\u001b[33mscore\u001b[0m=\u001b[1;36m1\u001b[0m\u001b[1;36m.0\u001b[0m,\n",
       "\u001b[2;32m│   │   \u001b[0m\u001b[33mpayload\u001b[0m=\u001b[1m{\u001b[0m\n",
       "\u001b[2;32m│   │   │   \u001b[0m\u001b[32m'text'\u001b[0m: \u001b[32m'Tonfarb Bone Conduction Headphones Bluetooth, Open Ear Headphones Wireless Running Earphone with Mic for Sports Hiking Running Driving Cycling Fitness Workouts Walking 【Open Ear Design】 Bone conduction headphones bluetooth deliver premium sound through the cheekbones. In contrast to over-ear headphones, the wireless running headphones make you a burden-free wearing. It can avoid some dangerous situations from happening as you can also hear the surrounding sound when you use it to listen to music. 【Premium Sound Quality】Bone conduction design, bringing high-quality sound quality, low-frequency thick, mid-frequency sensitive, high-frequency penetration, open space feeling and excellent sound performance. When you turn up the volume, there will be a high-intensity vibration, which will bring a different dynamic to your movement. 【7 Hours Play Time】The open ear headphones has the usb charging port and include 165mAh battery, enjoy 7 hours of non-stop music or podcasts, built-in microphone achieves clearer phone call for crystal clear calls. NOTE: Please keep the headphones dry without water enter in. 【Lightweight & Stable Fit】Our sport earphones weigh 26 grams, made of premium soft silicone material, keeps running relax, the open ear design helps you achieve the true painless and harmless as the earphone is no need to plug into the ear canal. With ergonomic surround and streamlined sinking design, the sports bluetooth headphones can keep on ear when running, dance, or wearing glasses. 【Bluetooth 5.0 】Over ear headphones with excellent sound quality and clarity of up to 10 m for smartphones or tablets with iOS Android and Mac.The wireless sports headphones only have one multi-function button to control all function, it is easy to use.'\u001b[0m,\n",
       "\u001b[2;32m│   │   │   \u001b[0m\u001b[32m'first_large_image'\u001b[0m: \u001b[32m'https://m.media-amazon.com/images/I/31izYsl0N8L._AC_.jpg'\u001b[0m,\n",
       "\u001b[2;32m│   │   │   \u001b[0m\u001b[32m'average_rating'\u001b[0m: \u001b[1;36m4.2\u001b[0m,\n",
       "\u001b[2;32m│   │   │   \u001b[0m\u001b[32m'rating_number'\u001b[0m: \u001b[1;36m115\u001b[0m,\n",
       "\u001b[2;32m│   │   │   \u001b[0m\u001b[32m'price'\u001b[0m: \u001b[1;36m16.99\u001b[0m,\n",
       "\u001b[2;32m│   │   │   \u001b[0m\u001b[32m'parent_asin'\u001b[0m: \u001b[32m'B0BLTXNNBB'\u001b[0m\n",
       "\u001b[2;32m│   │   \u001b[0m\u001b[1m}\u001b[0m,\n",
       "\u001b[2;32m│   │   \u001b[0m\u001b[33mvector\u001b[0m=\u001b[3;35mNone\u001b[0m,\n",
       "\u001b[2;32m│   │   \u001b[0m\u001b[33mshard_key\u001b[0m=\u001b[3;35mNone\u001b[0m,\n",
       "\u001b[2;32m│   │   \u001b[0m\u001b[33morder_value\u001b[0m=\u001b[3;35mNone\u001b[0m\n",
       "\u001b[2;32m│   \u001b[0m\u001b[1m)\u001b[0m,\n",
       "\u001b[2;32m│   \u001b[0m\u001b[1;35mScoredPoint\u001b[0m\u001b[1m(\u001b[0m\n",
       "\u001b[2;32m│   │   \u001b[0m\u001b[33mid\u001b[0m=\u001b[1;36m22\u001b[0m,\n",
       "\u001b[2;32m│   │   \u001b[0m\u001b[33mversion\u001b[0m=\u001b[1;36m4\u001b[0m,\n",
       "\u001b[2;32m│   │   \u001b[0m\u001b[33mscore\u001b[0m=\u001b[1;36m0\u001b[0m\u001b[1;36m.6666667\u001b[0m,\n",
       "\u001b[2;32m│   │   \u001b[0m\u001b[33mpayload\u001b[0m=\u001b[1m{\u001b[0m\n",
       "\u001b[2;32m│   │   │   \u001b[0m\u001b[32m'text'\u001b[0m: \u001b[32m'IKG Wireless Earbuds, Bluetooth Headphones 5.3 Mini Wireless Headphones in Ear, 37H Playtime, Deep Bass, Bluetooth Earbuds Built-in Mic, CVC8.0 Clear Call, IPX7 Waterproof, LED Display, USB-C, Sport Stereo Quality: The wireless headphones features a 14.2mm titaniumized composite diaphragm driver. They offer thick bass, rich mids and crystal clear highs. Their sound quality exceeds 95% of half in-ear headphones. Bluetooth 5.3: Bluetooth earbuds are equipped with the latest Bluetooth 5.3 technology, providing an unprecedented audio experience with faster transmission speeds over short distances and more stable signal connections. 37 Hours of Playtime: The true wireless earbuds can be used for 7 hours of continuous use and with the charging case, you can listen for 37 hours. It only takes 15 minutes to get an hour of play time. Comfortable Fit: The bluetooth headphones in ear are ergonomically designed to fit the inner contours of the ear perfectly. They ensure comfort for the ear during use and do not fall off easily. IPX7 Waterproof: The wireless earphones feature nano-coated IPX7 waterproof technology, perfect for listening to music while hiking, biking or running.'\u001b[0m,\n",
       "\u001b[2;32m│   │   │   \u001b[0m\u001b[32m'first_large_image'\u001b[0m: \u001b[32m'https://m.media-amazon.com/images/I/31hx160CgEL._AC_.jpg'\u001b[0m,\n",
       "\u001b[2;32m│   │   │   \u001b[0m\u001b[32m'average_rating'\u001b[0m: \u001b[1;36m4.8\u001b[0m,\n",
       "\u001b[2;32m│   │   │   \u001b[0m\u001b[32m'rating_number'\u001b[0m: \u001b[1;36m120\u001b[0m,\n",
       "\u001b[2;32m│   │   │   \u001b[0m\u001b[32m'price'\u001b[0m: \u001b[1;36m9.99\u001b[0m,\n",
       "\u001b[2;32m│   │   │   \u001b[0m\u001b[32m'parent_asin'\u001b[0m: \u001b[32m'B0CCKQF5GF'\u001b[0m\n",
       "\u001b[2;32m│   │   \u001b[0m\u001b[1m}\u001b[0m,\n",
       "\u001b[2;32m│   │   \u001b[0m\u001b[33mvector\u001b[0m=\u001b[3;35mNone\u001b[0m,\n",
       "\u001b[2;32m│   │   \u001b[0m\u001b[33mshard_key\u001b[0m=\u001b[3;35mNone\u001b[0m,\n",
       "\u001b[2;32m│   │   \u001b[0m\u001b[33morder_value\u001b[0m=\u001b[3;35mNone\u001b[0m\n",
       "\u001b[2;32m│   \u001b[0m\u001b[1m)\u001b[0m\n",
       "\u001b[1m]\u001b[0m\n"
      ]
     },
     "metadata": {},
     "output_type": "display_data"
    }
   ],
   "source": [
    "result = retrieve_data('earphones')\n",
    "\n",
    "pprint(result.points[:2])"
   ]
  },
  {
   "cell_type": "code",
   "execution_count": 136,
   "id": "794fa5ff",
   "metadata": {},
   "outputs": [
    {
     "data": {
      "text/html": [
       "<pre style=\"white-space:pre;overflow-x:auto;line-height:normal;font-family:Menlo,'DejaVu Sans Mono',consolas,'Courier New',monospace\"><span style=\"font-weight: bold\">[</span><span style=\"color: #008000; text-decoration-color: #008000\">'B0BLTXNNBB'</span>, <span style=\"color: #008000; text-decoration-color: #008000\">'B0CCKQF5GF'</span>, <span style=\"color: #008000; text-decoration-color: #008000\">'B0B1HPCQQD'</span>, <span style=\"color: #008000; text-decoration-color: #008000\">'B09F36QCNK'</span>, <span style=\"color: #008000; text-decoration-color: #008000\">'B0C6TNZC21'</span><span style=\"font-weight: bold\">]</span>\n",
       "</pre>\n"
      ],
      "text/plain": [
       "\u001b[1m[\u001b[0m\u001b[32m'B0BLTXNNBB'\u001b[0m, \u001b[32m'B0CCKQF5GF'\u001b[0m, \u001b[32m'B0B1HPCQQD'\u001b[0m, \u001b[32m'B09F36QCNK'\u001b[0m, \u001b[32m'B0C6TNZC21'\u001b[0m\u001b[1m]\u001b[0m\n"
      ]
     },
     "metadata": {},
     "output_type": "display_data"
    }
   ],
   "source": [
    "parent_asins = []\n",
    "for data in result.points:\n",
    "    parent_asins.append(data.payload['parent_asin'])\n",
    "\n",
    "pprint(parent_asins)"
   ]
  },
  {
   "cell_type": "code",
   "execution_count": 144,
   "id": "68269e32",
   "metadata": {},
   "outputs": [],
   "source": [
    "def retrieve_prefiltered_reviews_data(query, parent_asins, k=5):\n",
    "    query_embedding = get_embedding(query)\n",
    "\n",
    "    results = qdrant_client.query_points(\n",
    "        collection_name=\"Amazon-items-collection-12-reviews\",\n",
    "        prefetch=[\n",
    "            Prefetch(\n",
    "                query=query_embedding,\n",
    "                filter=Filter(\n",
    "                    must=[\n",
    "                        FieldCondition(\n",
    "                            key=\"parent_asin\",\n",
    "                            match=MatchAny(\n",
    "                                any=parent_asins,\n",
    "                            )\n",
    "                        )\n",
    "                    ]\n",
    "                ),\n",
    "                limit=20\n",
    "            )\n",
    "        ],\n",
    "        query=FusionQuery(fusion=\"rrf\"),\n",
    "        limit=k,\n",
    "    )\n",
    "    return results"
   ]
  },
  {
   "cell_type": "code",
   "execution_count": 145,
   "id": "094b955d",
   "metadata": {},
   "outputs": [],
   "source": [
    "reviews = retrieve_prefiltered_reviews_data('bad quality', parent_asins)"
   ]
  },
  {
   "cell_type": "code",
   "execution_count": 153,
   "id": "46004d7b",
   "metadata": {},
   "outputs": [
    {
     "data": {
      "text/plain": [
       "[ScoredPoint(id=2333, version=32, score=0.5, payload={'text': \"Bad quality It worked 3 times before breaking. It's really bad quality. I returned it and bought a different brand at Best Buy.\", 'parent_asin': 'B0B1HPCQQD'}, vector=None, shard_key=None, order_value=None),\n",
       " ScoredPoint(id=2157, version=30, score=0.33333334, payload={'text': 'bed quality of sound So bed quality of sound. Volume level so low.', 'parent_asin': 'B0B1HPCQQD'}, vector=None, shard_key=None, order_value=None),\n",
       " ScoredPoint(id=2419, version=33, score=0.25, payload={'text': 'Not satisfied with what I thought was to be a good product. I Gave it away. Was not what I thought it would be. Poor quality.', 'parent_asin': 'B0B1HPCQQD'}, vector=None, shard_key=None, order_value=None),\n",
       " ScoredPoint(id=3088, version=39, score=0.2, payload={'text': 'Good quality [[VIDEOID:d0b449e32a39def216aacab932d6efb5]] Very similar to those expensive ones.good sound and appearance', 'parent_asin': 'B0CCKQF5GF'}, vector=None, shard_key=None, order_value=None),\n",
       " ScoredPoint(id=3312, version=42, score=0.16666667, payload={'text': 'Good quality Good sturdy material', 'parent_asin': 'B09F36QCNK'}, vector=None, shard_key=None, order_value=None)]"
      ]
     },
     "metadata": {},
     "output_type": "display_data"
    }
   ],
   "source": [
    "display(reviews.points[:6])"
   ]
  },
  {
   "cell_type": "markdown",
   "id": "2470a3e9",
   "metadata": {},
   "source": [
    "## my experiments"
   ]
  },
  {
   "cell_type": "code",
   "execution_count": 107,
   "id": "48bb9a9f",
   "metadata": {},
   "outputs": [
    {
     "name": "stdout",
     "output_type": "stream",
     "text": [
      "12000:  Assembly\n",
      "12001: /user\n",
      "12002: NullOr\n",
      "12003: textarea\n",
      "12004:  ath\n",
      "12005:  ([\n",
      "12006:  channels\n",
      "12007:  Justice\n",
      "12008: choice\n",
      "12009: LOBAL\n",
      "12010: exec\n",
      "12011: emale\n",
      "12012:  elem\n",
      "12013: _le\n",
      "12014:  responsibility\n",
      "12015:  Tw\n",
      "12016: ICATION\n",
      "12017:  elseif\n",
      "12018:  fo\n",
      "12019: asts\n"
     ]
    },
    {
     "data": {
      "text/plain": [
       "100256"
      ]
     },
     "execution_count": 107,
     "metadata": {},
     "output_type": "execute_result"
    }
   ],
   "source": [
    "import tiktoken\n",
    "\n",
    "enc = tiktoken.encoding_for_model(\"gpt-3.5-turbo\")\n",
    "vocab = enc._mergeable_ranks  # dict: {token_bytes: token_id}\n",
    "\n",
    "for token_bytes, token_id in list(vocab.items())[12000:12020]:\n",
    "    print(f\"{token_id}: {token_bytes.decode('utf-8', errors='replace')}\")\n",
    "\n",
    "len(vocab.items())"
   ]
  },
  {
   "cell_type": "code",
   "execution_count": 51,
   "id": "1586b362",
   "metadata": {},
   "outputs": [],
   "source": [
    "import tiktoken\n",
    "import pandas as pd\n",
    "\n",
    "# Załaduj tokenizator do gpt-3.5-turbo (czyli cl100k_base)\n",
    "enc = tiktoken.get_encoding(\"cl100k_base\")\n",
    "\n",
    "# Pobierz słownik: token_id i string tokena\n",
    "token_tuples = [(token_id, token_bytes.decode(\"utf-8\", errors=\"replace\"))\n",
    "                for token_bytes, token_id in enc._mergeable_ranks.items()]\n",
    "\n",
    "# Stwórz DataFrame\n",
    "df = pd.DataFrame(token_tuples, columns=[\"token_id\", \"token\"])\n",
    "\n",
    "# Zapisz do CSV\n",
    "df.to_csv(\"gpt35_token_vocab.csv\", index=False, encoding=\"utf-8\")"
   ]
  },
  {
   "cell_type": "code",
   "execution_count": 100,
   "id": "56a4a293",
   "metadata": {},
   "outputs": [
    {
     "name": "stdout",
     "output_type": "stream",
     "text": [
      "1\n",
      "101\n",
      "201\n",
      "301\n",
      "401\n",
      "501\n",
      "601\n",
      "701\n",
      "801\n",
      "901\n"
     ]
    }
   ],
   "source": [
    "for i in range(1, 1001, 100):\n",
    "    print(i)"
   ]
  }
 ],
 "metadata": {
  "kernelspec": {
   "display_name": ".venv",
   "language": "python",
   "name": "python3"
  },
  "language_info": {
   "codemirror_mode": {
    "name": "ipython",
    "version": 3
   },
   "file_extension": ".py",
   "mimetype": "text/x-python",
   "name": "python",
   "nbconvert_exporter": "python",
   "pygments_lexer": "ipython3",
   "version": "3.12.10"
  }
 },
 "nbformat": 4,
 "nbformat_minor": 5
}
