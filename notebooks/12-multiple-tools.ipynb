{
 "cells": [
  {
   "cell_type": "code",
   "execution_count": 2,
   "id": "1134a35e",
   "metadata": {},
   "outputs": [],
   "source": [
    "from qdrant_client import QdrantClient\n",
    "from qdrant_client.models import Distance, VectorParams, PointStruct\n",
    "\n",
    "\n",
    "import pandas as pd\n",
    "import openai\n",
    "import json\n",
    "import tiktoken"
   ]
  },
  {
   "cell_type": "markdown",
   "id": "ffab8a6e",
   "metadata": {},
   "source": [
    "## Load Amazon dataset(Items)"
   ]
  },
  {
   "cell_type": "code",
   "execution_count": 17,
   "id": "53bb1232",
   "metadata": {},
   "outputs": [
    {
     "data": {
      "text/html": [
       "<div>\n",
       "<style scoped>\n",
       "    .dataframe tbody tr th:only-of-type {\n",
       "        vertical-align: middle;\n",
       "    }\n",
       "\n",
       "    .dataframe tbody tr th {\n",
       "        vertical-align: top;\n",
       "    }\n",
       "\n",
       "    .dataframe thead th {\n",
       "        text-align: right;\n",
       "    }\n",
       "</style>\n",
       "<table border=\"1\" class=\"dataframe\">\n",
       "  <thead>\n",
       "    <tr style=\"text-align: right;\">\n",
       "      <th></th>\n",
       "      <th>main_category</th>\n",
       "      <th>title</th>\n",
       "      <th>average_rating</th>\n",
       "      <th>rating_number</th>\n",
       "      <th>features</th>\n",
       "      <th>description</th>\n",
       "      <th>price</th>\n",
       "      <th>images</th>\n",
       "      <th>videos</th>\n",
       "      <th>store</th>\n",
       "      <th>categories</th>\n",
       "      <th>details</th>\n",
       "      <th>parent_asin</th>\n",
       "      <th>bought_together</th>\n",
       "      <th>available_date</th>\n",
       "    </tr>\n",
       "  </thead>\n",
       "  <tbody>\n",
       "    <tr>\n",
       "      <th>0</th>\n",
       "      <td>All Electronics</td>\n",
       "      <td>Adjustable Metal Stand for E cho Show 15, Tilt...</td>\n",
       "      <td>4.5</td>\n",
       "      <td>111</td>\n",
       "      <td>[The VMEI adjustable metal bracket is made of ...</td>\n",
       "      <td>[]</td>\n",
       "      <td>36.99</td>\n",
       "      <td>[{'thumb': 'https://m.media-amazon.com/images/...</td>\n",
       "      <td>[{'title': 'Small footprint, minimalist design...</td>\n",
       "      <td>VMEI</td>\n",
       "      <td>[Electronics, Computers &amp; Accessories, Compute...</td>\n",
       "      <td>{'Brand': 'VMEI', 'Color': 'Black', 'Room Type...</td>\n",
       "      <td>B0B13T2GY5</td>\n",
       "      <td>NaN</td>\n",
       "      <td>2022-05-11</td>\n",
       "    </tr>\n",
       "  </tbody>\n",
       "</table>\n",
       "</div>"
      ],
      "text/plain": [
       "     main_category                                              title  \\\n",
       "0  All Electronics  Adjustable Metal Stand for E cho Show 15, Tilt...   \n",
       "\n",
       "   average_rating  rating_number  \\\n",
       "0             4.5            111   \n",
       "\n",
       "                                            features description  price  \\\n",
       "0  [The VMEI adjustable metal bracket is made of ...          []  36.99   \n",
       "\n",
       "                                              images  \\\n",
       "0  [{'thumb': 'https://m.media-amazon.com/images/...   \n",
       "\n",
       "                                              videos store  \\\n",
       "0  [{'title': 'Small footprint, minimalist design...  VMEI   \n",
       "\n",
       "                                          categories  \\\n",
       "0  [Electronics, Computers & Accessories, Compute...   \n",
       "\n",
       "                                             details parent_asin  \\\n",
       "0  {'Brand': 'VMEI', 'Color': 'Black', 'Room Type...  B0B13T2GY5   \n",
       "\n",
       "   bought_together available_date  \n",
       "0              NaN     2022-05-11  "
      ]
     },
     "execution_count": 17,
     "metadata": {},
     "output_type": "execute_result"
    }
   ],
   "source": [
    "df_items = pd.read_json(\"../data/meta_Electronics_1000.jsonl\", lines=True)\n",
    "df_items.head(1)"
   ]
  },
  {
   "cell_type": "code",
   "execution_count": 18,
   "id": "9e83450a",
   "metadata": {},
   "outputs": [
    {
     "data": {
      "text/plain": [
       "50"
      ]
     },
     "execution_count": 18,
     "metadata": {},
     "output_type": "execute_result"
    }
   ],
   "source": [
    "df_items_sample = df_items.sample(n=50, random_state=25)\n",
    "\n",
    "len(df_items_sample)"
   ]
  },
  {
   "cell_type": "markdown",
   "id": "f7db9424",
   "metadata": {},
   "source": [
    "### Preproc"
   ]
  },
  {
   "cell_type": "code",
   "execution_count": 19,
   "id": "abfb8199",
   "metadata": {},
   "outputs": [
    {
     "data": {
      "text/html": [
       "<div>\n",
       "<style scoped>\n",
       "    .dataframe tbody tr th:only-of-type {\n",
       "        vertical-align: middle;\n",
       "    }\n",
       "\n",
       "    .dataframe tbody tr th {\n",
       "        vertical-align: top;\n",
       "    }\n",
       "\n",
       "    .dataframe thead th {\n",
       "        text-align: right;\n",
       "    }\n",
       "</style>\n",
       "<table border=\"1\" class=\"dataframe\">\n",
       "  <thead>\n",
       "    <tr style=\"text-align: right;\">\n",
       "      <th></th>\n",
       "      <th>main_category</th>\n",
       "      <th>title</th>\n",
       "      <th>average_rating</th>\n",
       "      <th>rating_number</th>\n",
       "      <th>features</th>\n",
       "      <th>description</th>\n",
       "      <th>price</th>\n",
       "      <th>images</th>\n",
       "      <th>videos</th>\n",
       "      <th>store</th>\n",
       "      <th>categories</th>\n",
       "      <th>details</th>\n",
       "      <th>parent_asin</th>\n",
       "      <th>bought_together</th>\n",
       "      <th>available_date</th>\n",
       "      <th>preprocessed_data</th>\n",
       "      <th>first_large_image</th>\n",
       "    </tr>\n",
       "  </thead>\n",
       "  <tbody>\n",
       "    <tr>\n",
       "      <th>0</th>\n",
       "      <td>All Electronics</td>\n",
       "      <td>Adjustable Metal Stand for E cho Show 15, Tilt...</td>\n",
       "      <td>4.5</td>\n",
       "      <td>111</td>\n",
       "      <td>[The VMEI adjustable metal bracket is made of ...</td>\n",
       "      <td>[]</td>\n",
       "      <td>36.99</td>\n",
       "      <td>[{'thumb': 'https://m.media-amazon.com/images/...</td>\n",
       "      <td>[{'title': 'Small footprint, minimalist design...</td>\n",
       "      <td>VMEI</td>\n",
       "      <td>[Electronics, Computers &amp; Accessories, Compute...</td>\n",
       "      <td>{'Brand': 'VMEI', 'Color': 'Black', 'Room Type...</td>\n",
       "      <td>B0B13T2GY5</td>\n",
       "      <td>NaN</td>\n",
       "      <td>2022-05-11</td>\n",
       "      <td>Adjustable Metal Stand for E cho Show 15, Tilt...</td>\n",
       "      <td>https://m.media-amazon.com/images/I/415fkdvFA9...</td>\n",
       "    </tr>\n",
       "  </tbody>\n",
       "</table>\n",
       "</div>"
      ],
      "text/plain": [
       "     main_category                                              title  \\\n",
       "0  All Electronics  Adjustable Metal Stand for E cho Show 15, Tilt...   \n",
       "\n",
       "   average_rating  rating_number  \\\n",
       "0             4.5            111   \n",
       "\n",
       "                                            features description  price  \\\n",
       "0  [The VMEI adjustable metal bracket is made of ...          []  36.99   \n",
       "\n",
       "                                              images  \\\n",
       "0  [{'thumb': 'https://m.media-amazon.com/images/...   \n",
       "\n",
       "                                              videos store  \\\n",
       "0  [{'title': 'Small footprint, minimalist design...  VMEI   \n",
       "\n",
       "                                          categories  \\\n",
       "0  [Electronics, Computers & Accessories, Compute...   \n",
       "\n",
       "                                             details parent_asin  \\\n",
       "0  {'Brand': 'VMEI', 'Color': 'Black', 'Room Type...  B0B13T2GY5   \n",
       "\n",
       "   bought_together available_date  \\\n",
       "0              NaN     2022-05-11   \n",
       "\n",
       "                                   preprocessed_data  \\\n",
       "0  Adjustable Metal Stand for E cho Show 15, Tilt...   \n",
       "\n",
       "                                   first_large_image  \n",
       "0  https://m.media-amazon.com/images/I/415fkdvFA9...  "
      ]
     },
     "execution_count": 19,
     "metadata": {},
     "output_type": "execute_result"
    }
   ],
   "source": [
    "def preprocess_data(row):\n",
    "    return f\"{row['title']} {' '.join(row['features'])}\"\n",
    "\n",
    "def extract_first_large_image(row):\n",
    "    return row[\"images\"][0].get(\"large\", '')\n",
    "\n",
    "df_items[\"preprocessed_data\"] = df_items.apply(preprocess_data, axis=1)\n",
    "df_items[\"first_large_image\"] = df_items.apply(extract_first_large_image, axis=1)\n",
    "\n",
    "df_items.head(1)"
   ]
  }
 ],
 "metadata": {
  "kernelspec": {
   "display_name": ".venv",
   "language": "python",
   "name": "python3"
  },
  "language_info": {
   "codemirror_mode": {
    "name": "ipython",
    "version": 3
   },
   "file_extension": ".py",
   "mimetype": "text/x-python",
   "name": "python",
   "nbconvert_exporter": "python",
   "pygments_lexer": "ipython3",
   "version": "3.12.10"
  }
 },
 "nbformat": 4,
 "nbformat_minor": 5
}
