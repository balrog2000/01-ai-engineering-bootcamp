{
 "cells": [
  {
   "cell_type": "code",
   "execution_count": 24,
   "metadata": {},
   "outputs": [],
   "source": [
    "from dotenv import load_dotenv\n",
    "import os\n",
    "load_dotenv('../.env_api')\n",
    "from rich.pretty import pprint\n",
    "from operator import add\n",
    "\n",
    "def ppprint(obj):\n",
    "    pprint(obj, indent_guides=False)\n",
    "\n",
    "os.environ[\"HTTP_PROXY\"] = \"http://localhost:9090\"\n",
    "os.environ[\"HTTPS_PROXY\"] = \"http://localhost:9090\"\n",
    "os.environ[\"REQUESTS_CA_BUNDLE\"] = \"/Users/tomek/Library/Application Support/com.proxyman.NSProxy-setapp/app-data/proxyman-ca.pem\"\n",
    "os.environ[\"SSL_CERT_FILE\"] = \"/Users/tomek/Library/Application Support/com.proxyman.NSProxy-setapp/app-data/proxyman-ca.pem\"\n",
    "from langsmith import Client\n",
    "import os\n",
    "\n",
    "from typing import List, Annotated, Any, Dict, Optional\n",
    "from pydantic import BaseModel, Field\n",
    "\n",
    "import instructor\n",
    "from openai import OpenAI\n",
    "\n",
    "import sys\n",
    "from pathlib import Path\n",
    "\n",
    "project_root = Path.cwd().parent\n",
    "sys.path.append(str(project_root / \"src\"))\n",
    "\n",
    "\n",
    "from api.rag.utils.utils import lc_messages_to_regular_messages\n",
    "from api.rag.utils.utils import prompt_template_config\n",
    "from api.core.config import config"
   ]
  },
  {
   "cell_type": "markdown",
   "metadata": {},
   "source": [
    "### Coordinator agent"
   ]
  },
  {
   "cell_type": "code",
   "execution_count": 25,
   "metadata": {},
   "outputs": [],
   "source": [
    "class MCPToolCall(BaseModel):\n",
    "    name: str\n",
    "    arguments: dict\n",
    "    server: str\n",
    "\n",
    "class ToolCall(BaseModel):\n",
    "    name: str\n",
    "    arguments: dict\n",
    "\n",
    "class RAGUsedContext(BaseModel):\n",
    "    id: str\n",
    "    description: str\n",
    "    \n",
    "class Delegation(BaseModel):\n",
    "    agent: str\n",
    "    task: str = Field(default=\"\")\n",
    "\n",
    "class CoordinatorAgentResponse(BaseModel):\n",
    "    next_agent: str\n",
    "    plan: list[Delegation]\n",
    "    final_answer: bool = Field(default=False)\n",
    "    answer: str\n",
    "\n",
    "class State(BaseModel):\n",
    "    messages: Annotated[List[Any], add] = []\n",
    "    answer: str = \"\"\n",
    "\n",
    "    coordinator_iteration: int = Field(default=0)\n",
    "    product_qa_iteration: int = Field(default=0)\n",
    "    shopping_cart_iteration: int = Field(default=0)\n",
    "\n",
    "    coordinator_final_answer: bool = Field(default=False)\n",
    "    product_qa_final_answer: bool = Field(default=False)\n",
    "    shopping_cart_final_answer: bool = Field(default=False)\n",
    "\n",
    "    product_qa_available_tools: List[Dict[str, Any]] = []\n",
    "    shopping_cart_available_tools: List[Dict[str, Any]] = []\n",
    "\n",
    "    tool_calls: Optional[List[ToolCall]] = Field(default_factory=list)\n",
    "    mcp_tool_calls: Optional[List[MCPToolCall]] = Field(default_factory=list)\n",
    "    retrieved_context: List[RAGUsedContext] = Field(default_factory=list)\n",
    "    \n",
    "    user_id: str = \"\"\n",
    "    cart_id: str = \"\"\n",
    "\n",
    "    next_agent: str = \"\"\n",
    "    plan: list[Delegation] = Field(default_factory=list)\n",
    "\n",
    "    trace_id: str = \"\""
   ]
  },
  {
   "cell_type": "code",
   "execution_count": 26,
   "metadata": {},
   "outputs": [],
   "source": [
    "def coordinator_agent_node(state) -> dict:\n",
    "    template = prompt_template_config('../' + config.PROMPT_TEMPLATE_PATH, 'coordinator_agent')\n",
    "    \n",
    "    prompt = template.render()\n",
    "\n",
    "    messages = state.messages\n",
    "\n",
    "    conversation = []\n",
    "\n",
    "    for msg in messages:\n",
    "        conversation.append(lc_messages_to_regular_messages(msg))\n",
    "\n",
    "    client = instructor.from_openai(OpenAI(api_key=config.OPENAI_API_KEY))\n",
    "\n",
    "    response, raw_response = client.chat.completions.create_with_completion(\n",
    "            model=\"gpt-4.1\",\n",
    "            response_model=CoordinatorAgentResponse,\n",
    "            messages=[{\"role\": \"system\", \"content\": prompt}, *conversation],\n",
    "            temperature=0,\n",
    "    )\n",
    "\n",
    "\n",
    "    return {\n",
    "        # \"messages\": ai_message,\n",
    "        \"next_agent\": response.next_agent,\n",
    "        \"plan\": response.plan,\n",
    "        \"coordinator_final_answer\": response.final_answer,\n",
    "        \"coordinator_iteration\": state.coordinator_iteration + 1,\n",
    "        \"answer\": response.answer,\n",
    "        \"trace_id\": ''\n",
    "    }"
   ]
  },
  {
   "cell_type": "code",
   "execution_count": 30,
   "metadata": {},
   "outputs": [],
   "source": [
    "initial_state = State(messages=[    \n",
    "    {\"role\": \"user\", \"content\": \"What is the weather in Tokyo?\"}\n",
    "])\n",
    "\n",
    "answer = coordinator_agent_node(initial_state)"
   ]
  },
  {
   "cell_type": "code",
   "execution_count": 31,
   "metadata": {},
   "outputs": [
    {
     "data": {
      "text/html": [
       "<pre style=\"white-space:pre;overflow-x:auto;line-height:normal;font-family:Menlo,'DejaVu Sans Mono',consolas,'Courier New',monospace\"><span style=\"font-weight: bold\">{</span>\n",
       "<span style=\"color: #7fbf7f; text-decoration-color: #7fbf7f\">│   </span><span style=\"color: #008000; text-decoration-color: #008000\">'next_agent'</span>: <span style=\"color: #008000; text-decoration-color: #008000\">''</span>,\n",
       "<span style=\"color: #7fbf7f; text-decoration-color: #7fbf7f\">│   </span><span style=\"color: #008000; text-decoration-color: #008000\">'plan'</span>: <span style=\"font-weight: bold\">[]</span>,\n",
       "<span style=\"color: #7fbf7f; text-decoration-color: #7fbf7f\">│   </span><span style=\"color: #008000; text-decoration-color: #008000\">'coordinator_final_answer'</span>: <span style=\"color: #00ff00; text-decoration-color: #00ff00; font-style: italic\">True</span>,\n",
       "<span style=\"color: #7fbf7f; text-decoration-color: #7fbf7f\">│   </span><span style=\"color: #008000; text-decoration-color: #008000\">'coordinator_iteration'</span>: <span style=\"color: #008080; text-decoration-color: #008080; font-weight: bold\">1</span>,\n",
       "<span style=\"color: #7fbf7f; text-decoration-color: #7fbf7f\">│   </span><span style=\"color: #008000; text-decoration-color: #008000\">'answer'</span>: <span style=\"color: #008000; text-decoration-color: #008000\">'I am a shopping assistant and do not have access to weather information. If you have any questions about products or shopping, please let me know how I can assist you!'</span>,\n",
       "<span style=\"color: #7fbf7f; text-decoration-color: #7fbf7f\">│   </span><span style=\"color: #008000; text-decoration-color: #008000\">'trace_id'</span>: <span style=\"color: #008000; text-decoration-color: #008000\">''</span>\n",
       "<span style=\"font-weight: bold\">}</span>\n",
       "</pre>\n"
      ],
      "text/plain": [
       "\u001b[1m{\u001b[0m\n",
       "\u001b[2;32m│   \u001b[0m\u001b[32m'next_agent'\u001b[0m: \u001b[32m''\u001b[0m,\n",
       "\u001b[2;32m│   \u001b[0m\u001b[32m'plan'\u001b[0m: \u001b[1m[\u001b[0m\u001b[1m]\u001b[0m,\n",
       "\u001b[2;32m│   \u001b[0m\u001b[32m'coordinator_final_answer'\u001b[0m: \u001b[3;92mTrue\u001b[0m,\n",
       "\u001b[2;32m│   \u001b[0m\u001b[32m'coordinator_iteration'\u001b[0m: \u001b[1;36m1\u001b[0m,\n",
       "\u001b[2;32m│   \u001b[0m\u001b[32m'answer'\u001b[0m: \u001b[32m'I am a shopping assistant and do not have access to weather information. If you have any questions about products or shopping, please let me know how I can assist you!'\u001b[0m,\n",
       "\u001b[2;32m│   \u001b[0m\u001b[32m'trace_id'\u001b[0m: \u001b[32m''\u001b[0m\n",
       "\u001b[1m}\u001b[0m\n"
      ]
     },
     "metadata": {},
     "output_type": "display_data"
    }
   ],
   "source": [
    "pprint(answer)"
   ]
  },
  {
   "cell_type": "markdown",
   "metadata": {},
   "source": [
    "#### Create coordinator evaluation dataset"
   ]
  },
  {
   "cell_type": "code",
   "execution_count": 32,
   "metadata": {},
   "outputs": [],
   "source": [
    "coordinator_eval_dataset = [\n",
    "    {\n",
    "        'inputs': {\n",
    "            'messages': [\n",
    "                {\n",
    "                    'role': 'user',\n",
    "                    'content': 'What is the weather today?'\n",
    "                }\n",
    "            ]\n",
    "        },\n",
    "        'outputs': {\n",
    "            'next_agent': 'product_qa_agent',\n",
    "            'coordinator_final_answer': True\n",
    "        }\n",
    "    },  \n",
    "    {\n",
    "        \"inputs\": {\n",
    "            \"messages\": [\n",
    "                {\"role\": \"user\", \"content\": \"Can I get some earphones?\"}\n",
    "            ]\n",
    "        },\n",
    "        \"outputs\": {\n",
    "            \"next_agent\": \"product_qa_agent\",\n",
    "            \"coordinator_final_answer\": False\n",
    "        }\n",
    "    },\n",
    "    {\n",
    "        \"inputs\": {\n",
    "            \"messages\": [\n",
    "                {\"role\": \"user\", \"content\": \"Can you add an item with ID B09NLTDHQ6 to my cart?\"}\n",
    "            ]\n",
    "        },\n",
    "        \"outputs\": {\n",
    "            \"next_agent\": \"shopping_cart_agent\",\n",
    "            \"coordinator_final_answer\": False\n",
    "        }\n",
    "    },\n",
    "    {\n",
    "        \"inputs\": {\n",
    "            \"messages\": [\n",
    "                {\"role\": \"user\", \"content\": \"Can you add those earphones to my cart?\"}\n",
    "            ]\n",
    "        },\n",
    "        \"outputs\": {\n",
    "            \"next_agent\": \"\",\n",
    "            \"coordinator_final_answer\": True\n",
    "        }\n",
    "    },\n",
    "    {\n",
    "        \"inputs\": {\n",
    "            \"messages\": [\n",
    "                {\"role\": \"user\", \"content\": \"Can you add the best items to my cart? I am looking for laptop bags.\"}\n",
    "            ]\n",
    "        },\n",
    "        \"outputs\": {\n",
    "            \"next_agent\": \"product_qa_agent\",\n",
    "            \"coordinator_final_answer\": False\n",
    "        }\n",
    "    },\n",
    "    {\n",
    "        \"inputs\": {\n",
    "            \"messages\": [\n",
    "                {\"role\": \"user\", \"content\": \"Can you find some good reviews for items in my cart?\"}\n",
    "            ]\n",
    "        },\n",
    "        \"outputs\": {\n",
    "            \"next_agent\": \"shopping_cart_agent\",\n",
    "            \"coordinator_final_answer\": False\n",
    "        }\n",
    "    },\n",
    "    {\n",
    "        \"inputs\": {\n",
    "            \"messages\": [\n",
    "                {\"role\": \"user\", \"content\": \"Can you put the items with the most positive user reviews to my cart?\"}\n",
    "            ]\n",
    "        },\n",
    "        \"outputs\": {\n",
    "            \"next_agent\": \"product_qa_agent\",\n",
    "            \"coordinator_final_answer\": False\n",
    "        }\n",
    "    },\n",
    "    {\n",
    "        \"inputs\": {\n",
    "            \"messages\": [\n",
    "                {\"role\": \"user\", \"content\": \"What kind of stuff do you sell?\"}\n",
    "            ]\n",
    "        },\n",
    "        \"outputs\": {\n",
    "            \"next_agent\": \"\",\n",
    "            \"coordinator_final_answer\": True\n",
    "        }\n",
    "    },\n",
    "    {\n",
    "        \"inputs\": {\n",
    "            \"messages\": [\n",
    "                {\"role\": \"user\", \"content\": \"Can you help me with my order?\"}\n",
    "            ]\n",
    "        },\n",
    "        \"outputs\": {\n",
    "            \"next_agent\": \"\",\n",
    "            \"coordinator_final_answer\": True\n",
    "        }\n",
    "    },\n",
    "    {\n",
    "        \"inputs\": {\n",
    "            \"messages\": [\n",
    "                {\"role\": \"user\", \"content\": \"Can you add two, ideally red tablets to my cart?\"}\n",
    "            ]\n",
    "        },\n",
    "        \"outputs\": {\n",
    "            \"next_agent\": \"product_qa_agent\",\n",
    "            \"coordinator_final_answer\": False\n",
    "        }\n",
    "    }\n",
    "]"
   ]
  },
  {
   "cell_type": "markdown",
   "metadata": {},
   "source": [
    "### Upload the dataset"
   ]
  },
  {
   "cell_type": "code",
   "execution_count": 38,
   "metadata": {},
   "outputs": [],
   "source": [
    "ls_client = Client(api_key=os.getenv(\"LANGSMITH_API_KEY\"))\n",
    "\n"
   ]
  },
  {
   "cell_type": "code",
   "execution_count": null,
   "metadata": {},
   "outputs": [],
   "source": [
    "dataset_name = \"coordinator-evaluation-dataset\"\n",
    "dataset = ls_client.create_dataset(\n",
    "    dataset_name=dataset_name,\n",
    "    description=\"Dataset for evaluating routing of the coordinator agent\",\n",
    ")\n"
   ]
  },
  {
   "cell_type": "code",
   "execution_count": null,
   "metadata": {},
   "outputs": [],
   "source": [
    "for item in coordinator_eval_dataset:\n",
    "    ls_client.create_example(\n",
    "        dataset_id=dataset.id,\n",
    "        inputs=item['inputs'],\n",
    "        outputs=item['outputs']\n",
    "    )"
   ]
  },
  {
   "cell_type": "code",
   "execution_count": 39,
   "metadata": {},
   "outputs": [],
   "source": [
    "def next_agent_evaluator(run, example):\n",
    "    next_agent_match = run.outputs['next_agent'] == example.outputs['next_agent']\n",
    "    final_answer_match = run.outputs['coordinator_final_answer'] == example.outputs['coordinator_final_answer']\n",
    "\n",
    "    return all([next_agent_match, final_answer_match])"
   ]
  },
  {
   "cell_type": "code",
   "execution_count": 40,
   "metadata": {},
   "outputs": [
    {
     "name": "stderr",
     "output_type": "stream",
     "text": [
      "/Users/tomek/dev/ai-bootcamp/01-ai-engineering-bootcamp/.venv/lib/python3.12/site-packages/tqdm/auto.py:21: TqdmWarning: IProgress not found. Please update jupyter and ipywidgets. See https://ipywidgets.readthedocs.io/en/stable/user_install.html\n",
      "  from .autonotebook import tqdm as notebook_tqdm\n"
     ]
    },
    {
     "name": "stdout",
     "output_type": "stream",
     "text": [
      "View the evaluation results for experiment: 'coordinator-evaluation-dataset-ebba6756' at:\n",
      "https://smith.langchain.com/o/c5906f8c-2b0e-445e-8ba7-ea63d7432c8c/datasets/a8a58390-b576-4b77-8875-b5c42217c390/compare?selectedSessions=ef509e60-8c4c-4426-b0d1-64ab33151d55\n",
      "\n",
      "\n"
     ]
    },
    {
     "name": "stderr",
     "output_type": "stream",
     "text": [
      "10it [00:24,  2.43s/it]\n"
     ]
    }
   ],
   "source": [
    "results = ls_client.evaluate(\n",
    "    lambda x: coordinator_agent_node(State(messages=x['messages'])),\n",
    "    data=\"coordinator-evaluation-dataset\",\n",
    "    evaluators = [\n",
    "        next_agent_evaluator,\n",
    "    ],\n",
    "    experiment_prefix='coordinator-evaluation-dataset'\n",
    ")"
   ]
  }
 ],
 "metadata": {
  "kernelspec": {
   "display_name": ".venv",
   "language": "python",
   "name": "python3"
  },
  "language_info": {
   "codemirror_mode": {
    "name": "ipython",
    "version": 3
   },
   "file_extension": ".py",
   "mimetype": "text/x-python",
   "name": "python",
   "nbconvert_exporter": "python",
   "pygments_lexer": "ipython3",
   "version": "3.12.10"
  }
 },
 "nbformat": 4,
 "nbformat_minor": 2
}
