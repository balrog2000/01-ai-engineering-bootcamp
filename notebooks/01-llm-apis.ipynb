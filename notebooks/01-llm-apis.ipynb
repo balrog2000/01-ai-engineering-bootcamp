{
 "cells": [
  {
   "cell_type": "code",
   "execution_count": 1,
   "metadata": {},
   "outputs": [
    {
     "name": "stdout",
     "output_type": "stream",
     "text": [
      "Hello World\n"
     ]
    }
   ],
   "source": [
    "print(\"Hello World\")\n"
   ]
  },
  {
   "cell_type": "code",
   "execution_count": 2,
   "metadata": {},
   "outputs": [],
   "source": [
    "import openai\n",
    "import os\n",
    "\n",
    "api_key = os.getenv(\"OPENAI_API_KEY\")\n",
    "if not api_key:\n",
    "    api_key = input(\"Enter your OpenAI API key: \").strip()\n",
    "    os.environ[\"OPENAI_API_KEY\"] = api_key\n",
    "    if not api_key:\n",
    "        raise EnvironmentError(\"OPENAI_API_KEY is not set\")"
   ]
  },
  {
   "cell_type": "code",
   "execution_count": 4,
   "metadata": {},
   "outputs": [
    {
     "name": "stdout",
     "output_type": "stream",
     "text": [
      "Oczywiście! Oto 10 losowych słów w języku polskim:\n",
      "\n",
      "1. Książka\n",
      "2. Drzewo\n",
      "3. Słońce\n",
      "4. Rzeka\n",
      "5. Zegar\n",
      "6. Chmura\n",
      "7. Muzyka\n",
      "8. Samochód\n",
      "9. Ogród\n",
      "10. Gwiazda\n"
     ]
    }
   ],
   "source": [
    "import openai\n",
    "import os\n",
    "\n",
    "response = openai.chat.completions.create(\n",
    "    model=\"gpt-4o-mini\",\n",
    "    messages=[\n",
    "        {\"role\": \"system\", \"content\": \"You are a helpful assistant responding in Polish.\"},\n",
    "        {\"role\": \"user\", \"content\": \"Can you print 10 random words?\"}\n",
    "    ]\n",
    ")\n",
    "\n",
    "print(response.choices[0].message.content)"
   ]
  },
  {
   "cell_type": "code",
   "execution_count": 5,
   "metadata": {},
   "outputs": [],
   "source": [
    "import openai\n",
    "import os\n",
    "\n",
    "api_key = os.getenv(\"GOOGLE_API_KEY\")\n",
    "if not api_key:\n",
    "    api_key = input(\"Enter your Google API key: \").strip()\n",
    "    os.environ[\"GOOGLE_API_KEY\"] = api_key\n",
    "    if not api_key:\n",
    "        raise EnvironmentError(\"GOOGLE_API_KEY is not set\")"
   ]
  },
  {
   "cell_type": "code",
   "execution_count": 6,
   "metadata": {},
   "outputs": [
    {
     "name": "stdout",
     "output_type": "stream",
     "text": [
      "Oczywiście! Oto 10 losowych słów:\n",
      "\n",
      "1.  książka\n",
      "2.  słońce\n",
      "3.  marzenie\n",
      "4.  okno\n",
      "5.  ogród\n",
      "6.  deszcz\n",
      "7.  samochód\n",
      "8.  czas\n",
      "9.  muzyka\n",
      "10. komputer\n",
      "\n"
     ]
    }
   ],
   "source": [
    "from google import genai\n",
    "\n",
    "gemini_client = genai.Client(api_key=os.getenv(\"GOOGLE_API_KEY\"))\n",
    "\n",
    "response = gemini_client.models.generate_content(\n",
    "    model=\"gemini-2.0-flash\",\n",
    "    contents=[\n",
    "        \"You are a helpful assistant responding in Polish.\"\n",
    "        \"Can you print 10 random words?\"\n",
    "    ],\n",
    ")\n",
    "\n",
    "print(response.text)"
   ]
  },
  {
   "cell_type": "code",
   "execution_count": 7,
   "metadata": {},
   "outputs": [],
   "source": [
    "import openai\n",
    "import os\n",
    "\n",
    "api_key = os.getenv(\"GROQ_API_KEY\")\n",
    "if not api_key:\n",
    "    api_key = input(\"Enter your Groq API key: \").strip()\n",
    "    os.environ[\"GROQ_API_KEY\"] = api_key\n",
    "    if not api_key:\n",
    "        raise EnvironmentError(\"GROQ_API_KEY is not set\")\n"
   ]
  },
  {
   "cell_type": "code",
   "execution_count": 8,
   "metadata": {},
   "outputs": [
    {
     "name": "stdout",
     "output_type": "stream",
     "text": [
      "Oczywiście, oto 10 losowych słów: \n",
      "1. Książka\n",
      "2. Samochód\n",
      "3. Wakacje\n",
      "4. Jedzenie\n",
      "5. Dom\n",
      "6. Przyjaciel\n",
      "7. Szkoła\n",
      "8. Komputer\n",
      "9. Telewizor\n",
      "10. Piłka\n"
     ]
    }
   ],
   "source": [
    "import os\n",
    "\n",
    "from groq import Groq\n",
    "\n",
    "client = Groq(\n",
    "    api_key=os.environ.get(\"GROQ_API_KEY\"),\n",
    ")\n",
    "\n",
    "chat_completion = client.chat.completions.create(\n",
    "    messages=[\n",
    "        {\"role\": \"system\", \"content\": \"You are a helpful assistant responding in Polish.\"},\n",
    "        {\"role\": \"user\", \"content\": \"Can you print 10 random words?\"}\n",
    "    ],\n",
    "    model=\"llama-3.3-70b-versatile\",\n",
    ")\n",
    "\n",
    "print(chat_completion.choices[0].message.content)"
   ]
  }
 ],
 "metadata": {
  "kernelspec": {
   "display_name": ".venv",
   "language": "python",
   "name": "python3"
  },
  "language_info": {
   "codemirror_mode": {
    "name": "ipython",
    "version": 3
   },
   "file_extension": ".py",
   "mimetype": "text/x-python",
   "name": "python",
   "nbconvert_exporter": "python",
   "pygments_lexer": "ipython3",
   "version": "3.12.10"
  }
 },
 "nbformat": 4,
 "nbformat_minor": 2
}
