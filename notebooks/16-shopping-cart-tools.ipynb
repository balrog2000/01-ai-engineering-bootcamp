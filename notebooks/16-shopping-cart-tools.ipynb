{
 "cells": [
  {
   "cell_type": "code",
   "execution_count": 44,
   "id": "b1322ff4",
   "metadata": {},
   "outputs": [],
   "source": [
    "from dotenv import load_dotenv\n",
    "import os\n",
    "load_dotenv('../.env_api')\n",
    "from rich.pretty import pprint\n",
    "\n",
    "def ppprint(obj):\n",
    "    pprint(obj, indent_guides=False)\n",
    "\n",
    "os.environ[\"HTTP_PROXY\"] = \"http://localhost:9090\"\n",
    "os.environ[\"HTTPS_PROXY\"] = \"http://localhost:9090\"\n",
    "# os.environ[\"NO_PROXY\"] = os.getenv(\"NO_PROXY\", \"localhost,127.0.0.1,qdrant,::1\")\n",
    "os.environ[\"REQUESTS_CA_BUNDLE\"] = \"/Users/tomek/Library/Application Support/com.proxyman.NSProxy-setapp/app-data/proxyman-ca.pem\"\n",
    "os.environ[\"SSL_CERT_FILE\"] = \"/Users/tomek/Library/Application Support/com.proxyman.NSProxy-setapp/app-data/proxyman-ca.pem\"\n",
    "\n",
    "from fastmcp import Client\n",
    "\n",
    "from pydantic import BaseModel, Field\n",
    "\n",
    "from qdrant_client import QdrantClient\n",
    "from qdrant_client.models import Prefetch, Filter, FieldCondition, MatchText, FusionQuery, MatchValue\n",
    "\n",
    "from langsmith import traceable, get_current_run_tree\n",
    "\n",
    "from langgraph.graph import StateGraph, START, END\n",
    "from langgraph.prebuilt import ToolNode\n",
    "\n",
    "from langchain_core.messages import AIMessage, ToolMessage\n",
    "\n",
    "from jinja2 import Template\n",
    "from typing import Literal, Dict, Any, Annotated, List, Optional\n",
    "from IPython.display import Image, display\n",
    "from operator import add\n",
    "from openai import OpenAI\n",
    "\n",
    "import openai\n",
    "\n",
    "import random\n",
    "import ast\n",
    "import inspect\n",
    "import instructor\n",
    "import json\n",
    "import psycopg2\n",
    "import numpy as np\n",
    "from psycopg2.extras import RealDictCursor\n"
   ]
  },
  {
   "cell_type": "markdown",
   "id": "fe136a29",
   "metadata": {},
   "source": [
    "### Add to shopping cart"
   ]
  },
  {
   "cell_type": "code",
   "execution_count": 45,
   "id": "2fb5fcb4",
   "metadata": {},
   "outputs": [],
   "source": [
    "def add_to_shopping_cart(items: list[dict], user_id: str, cart_id: str) -> str:\n",
    "\n",
    "    \"\"\"Add a list of provided items to the shopping cart.\n",
    "    \n",
    "    Args:\n",
    "        items: A list of items to add to the shopping cart. Each item is a dictionary with the following keys: product_id, quantity.\n",
    "        user_id: The id of the user to add the items to the shopping cart.\n",
    "        cart_id: The id of the shopping cart to add the items to.\n",
    "        \n",
    "    Returns:\n",
    "        A list of the items added to the shopping cart.\n",
    "    \"\"\"\n",
    "\n",
    "    conn = psycopg2.connect(\n",
    "        host=\"localhost\",\n",
    "        port=5432,\n",
    "        database=\"langgraph_db\",\n",
    "        user=\"langgraph_user\",\n",
    "        password=\"langgraph_password\"\n",
    "    )\n",
    "    conn.autocommit = True\n",
    "\n",
    "    with conn.cursor(cursor_factory=RealDictCursor) as cursor:\n",
    "        \n",
    "        for item in items:\n",
    "            product_id = item['product_id']\n",
    "            quantity = item['quantity']\n",
    "\n",
    "            qdrant_client = QdrantClient(url=\"http://localhost:6333\")\n",
    "\n",
    "            dummy_vector = np.zeros(1536).tolist()\n",
    "            payload = qdrant_client.query_points(\n",
    "                collection_name=\"Amazon-items-collection-12-items\",\n",
    "                query=dummy_vector,\n",
    "                query_filter=Filter(\n",
    "                    must=[\n",
    "                        FieldCondition(\n",
    "                            key=\"parent_asin\",\n",
    "                            match=MatchValue(value=product_id)\n",
    "                        )\n",
    "                    ]\n",
    "                ),\n",
    "                with_payload=True,\n",
    "                limit=1\n",
    "            ).points[0].payload\n",
    "\n",
    "            product_image_url = payload.get(\"first_large_image\")\n",
    "            price = payload.get(\"price\")\n",
    "            currency = 'USD'\n",
    "        \n",
    "            # Check if item already exists\n",
    "            check_query = \"\"\"\n",
    "                SELECT id, quantity, price \n",
    "                FROM shopping_carts.shopping_cart_items \n",
    "                WHERE user_id = %s AND shopping_cart_id = %s AND product_id = %s\n",
    "            \"\"\"\n",
    "            cursor.execute(check_query, (user_id, cart_id, product_id))\n",
    "            existing_item = cursor.fetchone()\n",
    "            \n",
    "            if existing_item:\n",
    "                # Update existing item\n",
    "                new_quantity = existing_item['quantity'] + quantity\n",
    "                \n",
    "                update_query = \"\"\"\n",
    "                    UPDATE shopping_carts.shopping_cart_items \n",
    "                    SET \n",
    "                        quantity = %s,\n",
    "                        price = %s,\n",
    "                        currency = %s,\n",
    "                        product_image_url = COALESCE(%s, product_image_url)\n",
    "                    WHERE user_id = %s AND shopping_cart_id = %s AND product_id = %s\n",
    "                    RETURNING id, quantity, price\n",
    "                \"\"\"\n",
    "                \n",
    "                cursor.execute(update_query, (new_quantity, price, currency, product_image_url, user_id, cart_id, product_id))\n",
    "            \n",
    "            else:\n",
    "                # Insert new item\n",
    "                insert_query = \"\"\"\n",
    "                    INSERT INTO shopping_carts.shopping_cart_items (\n",
    "                        user_id, shopping_cart_id, product_id,\n",
    "                        price, quantity, currency, product_image_url\n",
    "                    ) VALUES (%s, %s, %s, %s, %s, %s, %s)\n",
    "                    RETURNING id, quantity, price\n",
    "                \"\"\"\n",
    "                \n",
    "                cursor.execute(insert_query, (user_id, cart_id, product_id, price, quantity, currency, product_image_url))\n",
    "            \n",
    "    return f\"Added {items} to the shopping cart.\""
   ]
  },
  {
   "cell_type": "code",
   "execution_count": 46,
   "id": "c09cffda",
   "metadata": {},
   "outputs": [
    {
     "data": {
      "text/plain": [
       "\"Added [{'product_id': 'B09Y77N1T2', 'quantity': 1, 'price': 100, 'currency': 'USD'}, {'product_id': 'B0BG78ZXPB', 'quantity': 4, 'price': 123, 'currency': 'USD'}] to the shopping cart.\""
      ]
     },
     "execution_count": 46,
     "metadata": {},
     "output_type": "execute_result"
    }
   ],
   "source": [
    "items = [\n",
    "    {\n",
    "        \"product_id\": \"B09Y77N1T2\",\n",
    "        \"quantity\": 1,\n",
    "        \"price\": 100,\n",
    "        \"currency\": \"USD\"\n",
    "    },\n",
    "    {\n",
    "        \"product_id\": \"B0BG78ZXPB\",\n",
    "        \"quantity\": 4,\n",
    "        \"price\": 123,\n",
    "        \"currency\": \"USD\"\n",
    "    },\n",
    "]\n",
    "\n",
    "add_to_shopping_cart(items, user_id=\"267\", cart_id=\"456\")"
   ]
  },
  {
   "cell_type": "markdown",
   "id": "0a9fc3b2",
   "metadata": {},
   "source": [
    "### Get the shopping cart tool"
   ]
  },
  {
   "cell_type": "code",
   "execution_count": 47,
   "id": "117aeef9",
   "metadata": {},
   "outputs": [],
   "source": [
    "def get_shopping_cart(user_id: str, cart_id: str) -> list[dict]:\n",
    "\n",
    "    \"\"\"\n",
    "    Retrieve all items in a user's shopping cart.\n",
    "    \n",
    "    Args:\n",
    "        user_id: User ID\n",
    "        shopping_cart_id: Cart identifier\n",
    "    \n",
    "    Returns:\n",
    "        List of dictionaries containing cart items\n",
    "    \"\"\"\n",
    "    \n",
    "    conn = psycopg2.connect(\n",
    "        host=\"localhost\",\n",
    "        port=5432,\n",
    "        database=\"langgraph_db\",\n",
    "        user=\"langgraph_user\",\n",
    "        password=\"langgraph_password\"\n",
    "    )\n",
    "    conn.autocommit = True\n",
    "\n",
    "    with conn.cursor(cursor_factory=RealDictCursor) as cursor:\n",
    "\n",
    "        query = \"\"\"\n",
    "                SELECT \n",
    "                    product_id, price, quantity,\n",
    "                    currency, product_image_url,\n",
    "                    (price * quantity) as total_price\n",
    "                FROM shopping_carts.shopping_cart_items \n",
    "                WHERE user_id = %s AND shopping_cart_id = %s\n",
    "                ORDER BY added_at DESC\n",
    "            \"\"\"\n",
    "        cursor.execute(query, (user_id, cart_id))\n",
    "\n",
    "        return [dict(row) for row in cursor.fetchall()]"
   ]
  },
  {
   "cell_type": "code",
   "execution_count": 48,
   "id": "8a993289",
   "metadata": {},
   "outputs": [
    {
     "data": {
      "text/plain": [
       "[{'product_id': 'B0BG78ZXPB',\n",
       "  'price': Decimal('10.59'),\n",
       "  'quantity': 8,\n",
       "  'currency': 'USD',\n",
       "  'product_image_url': 'https://m.media-amazon.com/images/I/41BsCvz5BpL._AC_.jpg',\n",
       "  'total_price': Decimal('84.72')},\n",
       " {'product_id': 'B09Y77N1T2',\n",
       "  'price': Decimal('89.99'),\n",
       "  'quantity': 7,\n",
       "  'currency': 'USD',\n",
       "  'product_image_url': 'https://m.media-amazon.com/images/I/411YIjCPgZL._AC_.jpg',\n",
       "  'total_price': Decimal('629.93')}]"
      ]
     },
     "execution_count": 48,
     "metadata": {},
     "output_type": "execute_result"
    }
   ],
   "source": [
    "get_shopping_cart(user_id=\"267\", cart_id=\"456\")\n"
   ]
  },
  {
   "cell_type": "markdown",
   "id": "a23939cd",
   "metadata": {},
   "source": [
    "### Delete items from shopping cart tool"
   ]
  },
  {
   "cell_type": "code",
   "execution_count": 49,
   "id": "2c10f56a",
   "metadata": {},
   "outputs": [],
   "source": [
    "def remove_from_cart(product_id: str, user_id: str, cart_id: str) -> str:\n",
    "\n",
    "    \"\"\"\n",
    "    Remove an item completely from the shopping cart.\n",
    "    \n",
    "    Args:\n",
    "        user_id: User ID\n",
    "        product_id: Product ID to remove\n",
    "        shopping_cart_id: Cart identifier\n",
    "    \n",
    "    Returns:\n",
    "        True if item was removed, False if item wasn't found\n",
    "    \"\"\"\n",
    "    \n",
    "    conn = psycopg2.connect(\n",
    "        host=\"localhost\",\n",
    "        port=5432,\n",
    "        database=\"langgraph_db\",\n",
    "        user=\"langgraph_user\",\n",
    "        password=\"langgraph_password\"\n",
    "    )\n",
    "    conn.autocommit = True\n",
    "\n",
    "    with conn.cursor(cursor_factory=RealDictCursor) as cursor:\n",
    "\n",
    "        query = \"\"\"\n",
    "                DELETE FROM shopping_carts.shopping_cart_items\n",
    "                WHERE user_id = %s AND shopping_cart_id = %s AND product_id = %s\n",
    "            \"\"\"\n",
    "        cursor.execute(query, (user_id, cart_id, product_id))\n",
    "\n",
    "        return cursor.rowcount > 0"
   ]
  },
  {
   "cell_type": "code",
   "execution_count": 50,
   "id": "635a3a2c",
   "metadata": {},
   "outputs": [
    {
     "data": {
      "text/plain": [
       "True"
      ]
     },
     "execution_count": 50,
     "metadata": {},
     "output_type": "execute_result"
    }
   ],
   "source": [
    "remove_from_cart(product_id=\"B0BG78ZXPB\", user_id=\"267\", cart_id=\"456\")"
   ]
  },
  {
   "cell_type": "code",
   "execution_count": 51,
   "id": "40686b5f",
   "metadata": {},
   "outputs": [
    {
     "data": {
      "text/plain": [
       "[{'product_id': 'B09Y77N1T2',\n",
       "  'price': Decimal('89.99'),\n",
       "  'quantity': 7,\n",
       "  'currency': 'USD',\n",
       "  'product_image_url': 'https://m.media-amazon.com/images/I/411YIjCPgZL._AC_.jpg',\n",
       "  'total_price': Decimal('629.93')}]"
      ]
     },
     "execution_count": 51,
     "metadata": {},
     "output_type": "execute_result"
    }
   ],
   "source": [
    "get_shopping_cart(user_id=\"267\", cart_id=\"456\")\n"
   ]
  }
 ],
 "metadata": {
  "kernelspec": {
   "display_name": ".venv",
   "language": "python",
   "name": "python3"
  },
  "language_info": {
   "codemirror_mode": {
    "name": "ipython",
    "version": 3
   },
   "file_extension": ".py",
   "mimetype": "text/x-python",
   "name": "python",
   "nbconvert_exporter": "python",
   "pygments_lexer": "ipython3",
   "version": "3.12.10"
  }
 },
 "nbformat": 4,
 "nbformat_minor": 5
}
